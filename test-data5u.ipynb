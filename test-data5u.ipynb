{
 "cells": [
  {
   "cell_type": "code",
   "execution_count": 1,
   "metadata": {},
   "outputs": [],
   "source": [
    "import requests\n",
    "import fake_useragent\n",
    "from lxml import etree\n",
    "import re\n",
    "import time\n",
    "import pandas as pd\n",
    "import random\n",
    "# 首先实例化fake_useragent对象\n",
    "ua = fake_useragent.UserAgent()"
   ]
  },
  {
   "cell_type": "code",
   "execution_count": 1,
   "metadata": {},
   "outputs": [],
   "source": [
    "def get_ip():\n",
    "  ip_test = requests.get(url='http://api.ip.data5u.com/dynamic/get.html?order=a476bdf0ee54fca870e83929f2bd5ee7&random=1&sep=3').text.strip()\n",
    "  return ip_test\n",
    "\n"
   ]
  },
  {
   "cell_type": "code",
   "execution_count": 3,
   "metadata": {},
   "outputs": [
    {
     "data": {
      "text/plain": [
       "'114.221.3.177:20007'"
      ]
     },
     "execution_count": 3,
     "metadata": {},
     "output_type": "execute_result"
    }
   ],
   "source": [
    "get_ip()"
   ]
  },
  {
   "cell_type": "code",
   "execution_count": 6,
   "metadata": {},
   "outputs": [],
   "source": [
    "headers = {\n",
    "  'User-Agent' : ua.random,\n",
    "  'Cookie' : 'bid=4w1lEeb_O0I; douban-fav-remind=1; ll=\"118281\"; __utmc=30149280; __utmz=30149280.1704272435.5.4.utmcsr=bing|utmccn=(organic)|utmcmd=organic|utmctr=(not%20provided); ap_v=0,6.0; __utma=30149280.2051814712.1693206043.1704278261.1704282134.8; __utmt=1; viewed=\"1421488_3039969_1406094_2995812_3184419_1403307_36660948_25817684_26967826_27028228\"; dbcl2=\"177340493:/1rnLRV8PEc\"; ck=K3gX; frodotk_db=\"00115e72af621c1600341b580e265442\"; push_noty_num=0; push_doumail_num=0; __utmv=30149280.17734; __utmb=30149280.20.10.1704282134'\n",
    "}\n",
    "\n",
    "url = 'https://music.douban.com/tag/OST'\n",
    "\n",
    "times = 5\n",
    "proxy = 0\n",
    "  "
   ]
  },
  {
   "cell_type": "code",
   "execution_count": 3,
   "metadata": {},
   "outputs": [
    {
     "name": "stdout",
     "output_type": "stream",
     "text": [
      "Error connecting to proxy None: HTTPSConnectionPool(host='music.douban.com', port=443): Max retries exceeded with url: /tag/OST (Caused by ProxyError('Cannot connect to proxy.', NewConnectionError('<urllib3.connection.HTTPSConnection object at 0x000002336D6E96D0>: Failed to establish a new connection: [Errno 11001] getaddrinfo failed')))\n",
      "Error connecting to proxy 61.164.39.67:53281: HTTPSConnectionPool(host='music.douban.com', port=443): Max retries exceeded with url: /tag/OST (Caused by ProxyError('Cannot connect to proxy.', NewConnectionError('<urllib3.connection.HTTPSConnection object at 0x000002336AF71C40>: Failed to establish a new connection: [WinError 10060] 由于连接方在一段时间后没有正确答复或连接的主机没有反应，连接尝试失败。')))\n",
      "Error connecting to proxy 61.164.39.67:53281: HTTPSConnectionPool(host='music.douban.com', port=443): Max retries exceeded with url: /tag/OST (Caused by ProxyError('Cannot connect to proxy.', NewConnectionError('<urllib3.connection.HTTPSConnection object at 0x000002336D717340>: Failed to establish a new connection: [WinError 10060] 由于连接方在一段时间后没有正确答复或连接的主机没有反应，连接尝试失败。')))\n",
      "Error connecting to proxy 61.164.39.67:53281: HTTPSConnectionPool(host='music.douban.com', port=443): Max retries exceeded with url: /tag/OST (Caused by ProxyError('Cannot connect to proxy.', NewConnectionError('<urllib3.connection.HTTPSConnection object at 0x000002336D717CA0>: Failed to establish a new connection: [WinError 10060] 由于连接方在一段时间后没有正确答复或连接的主机没有反应，连接尝试失败。')))\n",
      "Error connecting to proxy 61.164.39.67:53281: HTTPSConnectionPool(host='music.douban.com', port=443): Max retries exceeded with url: /tag/OST (Caused by ProxyError('Cannot connect to proxy.', NewConnectionError('<urllib3.connection.HTTPSConnection object at 0x000002336D721640>: Failed to establish a new connection: [WinError 10060] 由于连接方在一段时间后没有正确答复或连接的主机没有反应，连接尝试失败。')))\n",
      "Error connecting to proxy 61.164.39.67:53281: HTTPSConnectionPool(host='music.douban.com', port=443): Max retries exceeded with url: /tag/OST (Caused by ProxyError('Cannot connect to proxy.', NewConnectionError('<urllib3.connection.HTTPSConnection object at 0x000002336D72B040>: Failed to establish a new connection: [WinError 10060] 由于连接方在一段时间后没有正确答复或连接的主机没有反应，连接尝试失败。')))\n",
      "Error connecting to proxy 61.164.39.67:53281: HTTPSConnectionPool(host='music.douban.com', port=443): Max retries exceeded with url: /tag/OST (Caused by ProxyError('Cannot connect to proxy.', NewConnectionError('<urllib3.connection.HTTPSConnection object at 0x000002336D72B940>: Failed to establish a new connection: [WinError 10060] 由于连接方在一段时间后没有正确答复或连接的主机没有反应，连接尝试失败。')))\n",
      "Error connecting to proxy 61.164.39.67:53281: HTTPSConnectionPool(host='music.douban.com', port=443): Max retries exceeded with url: /tag/OST (Caused by ProxyError('Cannot connect to proxy.', NewConnectionError('<urllib3.connection.HTTPSConnection object at 0x000002336D7332E0>: Failed to establish a new connection: [WinError 10060] 由于连接方在一段时间后没有正确答复或连接的主机没有反应，连接尝试失败。')))\n",
      "Error connecting to proxy 61.164.39.67:53281: HTTPSConnectionPool(host='music.douban.com', port=443): Max retries exceeded with url: /tag/OST (Caused by ProxyError('Cannot connect to proxy.', NewConnectionError('<urllib3.connection.HTTPSConnection object at 0x000002336D733C40>: Failed to establish a new connection: [WinError 10060] 由于连接方在一段时间后没有正确答复或连接的主机没有反应，连接尝试失败。')))\n"
     ]
    }
   ],
   "source": [
    "import requests\n",
    "\n",
    "def get_ip():\n",
    "    # 你的获取代理IP的逻辑，这里用一个示例函数代替\n",
    "    # 这个函数应该返回一个代理IP，你可以根据你的实际情况实现\n",
    "    return '61.164.39.67:53281'\n",
    "\n",
    "def get_res(proxy):\n",
    "    proxies = {\n",
    "        'http': 'http://{}'.format(proxy),\n",
    "        'https': 'https://{}'.format(proxy),\n",
    "    }\n",
    "    url = 'https://music.douban.com/tag/OST'\n",
    "    headers = {\n",
    "      'User-Agent' : ua.random,\n",
    "      'Cookie' : 'bid=4w1lEeb_O0I; douban-fav-remind=1; ll=\"118281\"; __utmc=30149280; __utmz=30149280.1704272435.5.4.utmcsr=bing|utmccn=(organic)|utmcmd=organic|utmctr=(not%20provided); ap_v=0,6.0; __utma=30149280.2051814712.1693206043.1704278261.1704282134.8; __utmt=1; viewed=\"1421488_3039969_1406094_2995812_3184419_1403307_36660948_25817684_26967826_27028228\"; dbcl2=\"177340493:/1rnLRV8PEc\"; ck=K3gX; frodotk_db=\"00115e72af621c1600341b580e265442\"; push_noty_num=0; push_doumail_num=0; __utmv=30149280.17734; __utmb=30149280.20.10.1704282134'\n",
    "    }\n",
    "    try:\n",
    "        res = requests.get(url=url, headers=headers, proxies=proxies).text\n",
    "        return res\n",
    "    except requests.RequestException as e:\n",
    "        print(f\"Error connecting to proxy {proxy}: {e}\")\n",
    "        # 在发生异常时重新获取代理IP并递归调用get_res\n",
    "        new_proxy = get_ip()\n",
    "        return get_res(new_proxy)\n",
    "\n",
    "# 初始化代理为None，让 get_ip 第一次获取代理\n",
    "proxy = None\n",
    "result = get_res(proxy)\n",
    "\n",
    "print(result)\n"
   ]
  },
  {
   "cell_type": "code",
   "execution_count": 28,
   "metadata": {},
   "outputs": [
    {
     "name": "stdout",
     "output_type": "stream",
     "text": [
      "http://114.99.2.127:30315\n"
     ]
    }
   ],
   "source": [
    "print('http://{}'.format(proxy))"
   ]
  },
  {
   "cell_type": "code",
   "execution_count": 32,
   "metadata": {},
   "outputs": [
    {
     "name": "stdout",
     "output_type": "stream",
     "text": [
      "测试代理 60.175.22.136:41439 时发生异常： Invalid URL 'www.baidu.com': No schema supplied. Perhaps you meant http://www.baidu.com?，可能无效。\n"
     ]
    }
   ],
   "source": [
    "import requests\n",
    "\n",
    "def get_ip():\n",
    "    ip_test = requests.get(url='http://api.ip.data5u.com/dynamic/get.html?order=a476bdf0ee54fca870e83929f2bd5ee7&random=2&sep=3').text.strip()\n",
    "    return ip_test\n",
    "\n",
    "def test_proxy(proxy):\n",
    "    url_to_test = 'www.baidu.com'  # 用你要测试的网址替换这里\n",
    "\n",
    "    try:\n",
    "        response = requests.get(url_to_test, proxies={'http': f'http://{proxy}', 'https': f'https://{proxy}'}, timeout=10)\n",
    "        if response.status_code == 200:\n",
    "            print(f\"代理 {proxy} 有效！\")\n",
    "        else:\n",
    "            print(f\"代理 {proxy} 返回状态码 {response.status_code}，可能无效。\")\n",
    "    except Exception as e:\n",
    "        print(f\"测试代理 {proxy} 时发生异常： {str(e)}，可能无效。\")\n",
    "\n",
    "if __name__ == \"__main__\":\n",
    "    proxy_to_test = get_ip()\n",
    "    test_proxy(proxy_to_test)\n"
   ]
  },
  {
   "cell_type": "code",
   "execution_count": 35,
   "metadata": {},
   "outputs": [
    {
     "name": "stdout",
     "output_type": "stream",
     "text": [
      "https://114.99.131.28:40563/www.baidu.com\n"
     ]
    }
   ],
   "source": [
    "proxy = get_ip()\n",
    "print(f'https://{proxy}/www.baidu.com')"
   ]
  },
  {
   "cell_type": "code",
   "execution_count": null,
   "metadata": {},
   "outputs": [],
   "source": []
  }
 ],
 "metadata": {
  "kernelspec": {
   "display_name": "base",
   "language": "python",
   "name": "python3"
  },
  "language_info": {
   "codemirror_mode": {
    "name": "ipython",
    "version": 3
   },
   "file_extension": ".py",
   "mimetype": "text/x-python",
   "name": "python",
   "nbconvert_exporter": "python",
   "pygments_lexer": "ipython3",
   "version": "3.9.7"
  }
 },
 "nbformat": 4,
 "nbformat_minor": 2
}
