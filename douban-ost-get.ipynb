{
 "cells": [
  {
   "cell_type": "code",
   "execution_count": 2,
   "metadata": {},
   "outputs": [],
   "source": [
    "import requests\n",
    "import fake_useragent\n",
    "from lxml import etree\n",
    "import re\n",
    "import time\n",
    "import pandas as pd\n",
    "import random\n",
    "# 首先实例化fake_useragent对象\n",
    "ua = fake_useragent.UserAgent()"
   ]
  },
  {
   "cell_type": "code",
   "execution_count": 3,
   "metadata": {},
   "outputs": [],
   "source": [
    "def getProxy():\n",
    "    df = pd.read_excel(io=r'C:\\Users\\10378\\Desktop\\project\\24-1\\douban-music-250\\data\\可用ip-all.xlsx')\n",
    "    ip_list = df['proxy'].to_list()\n",
    "    int_random = random.randint(0,len(ip_list)-1)\n",
    "    ip = ip_list[int_random]\n",
    "    return ip\n"
   ]
  },
  {
   "cell_type": "code",
   "execution_count": 4,
   "metadata": {},
   "outputs": [],
   "source": [
    "import string"
   ]
  },
  {
   "cell_type": "code",
   "execution_count": 5,
   "metadata": {},
   "outputs": [],
   "source": [
    "cookie=\"bid=%s\" % \"\".join(random.sample(string.ascii_letters + string.digits, 11))\n"
   ]
  },
  {
   "cell_type": "code",
   "execution_count": 6,
   "metadata": {},
   "outputs": [
    {
     "data": {
      "text/plain": [
       "'bid=kaLA3lCR75J'"
      ]
     },
     "execution_count": 6,
     "metadata": {},
     "output_type": "execute_result"
    }
   ],
   "source": [
    "cookie"
   ]
  },
  {
   "cell_type": "code",
   "execution_count": 7,
   "metadata": {},
   "outputs": [
    {
     "data": {
      "text/plain": [
       "'139.196.214.238:2087'"
      ]
     },
     "execution_count": 7,
     "metadata": {},
     "output_type": "execute_result"
    }
   ],
   "source": [
    "getProxy()"
   ]
  },
  {
   "cell_type": "code",
   "execution_count": 9,
   "metadata": {},
   "outputs": [
    {
     "name": "stdout",
     "output_type": "stream",
     "text": [
      "<Response [200]>\n"
     ]
    }
   ],
   "source": [
    "url = 'https://music.douban.com/tag/OST'\n",
    "headers = {\n",
    "    'User-Agent' : ua.random,\n",
    "    'Origin':'https://music.douban.com',\n",
    "    'referer':'https://music.douban.com/tag/',\n",
    "    'Accept-Language': 'zh-CN,zh',\n",
    "    'Cookie':'bid=4w1lEeb_O0I; douban-fav-remind=1; _pk_id.100001.8cb4=e5a27b7bb2a7e69b.1693309756.; __yadk_uid=BdIgeZL1wvlzXmkHTkhovrW5Rex3QZRE; ll=\"118281\"; viewed=\"1421488_3039969_1406094_2995812_3184419_1403307_36660948_25817684_26967826_27028228\"; push_noty_num=0; push_doumail_num=0; __utmv=30149280.17734; dbcl2=\"177340493:dSJNS8DLZpk\"; ck=R1FS; __utma=30149280.2051814712.1693206043.1705250877.1705585474.12; __utmc=30149280; __utmz=30149280.1705585474.12.5.utmcsr=accounts.douban.com|utmccn=(referral)|utmcmd=referral|utmcct=/; _pk_ref.100001.8cb4=%5B%22%22%2C%22%22%2C1705585608%2C%22https%3A%2F%2Fmusic.douban.com%2Ftag%2FOST%3Fstart%3D20%26amp%3Btype%3DT%22%5D; _pk_ses.100001.8cb4=1; __utmb=30149280.17.10.1705585474'\n",
    "    }\n",
    "\n",
    "proxies = {\n",
    "    'http': 'http://{}'.format(getProxy()),\n",
    "    'https': 'http://{}'.format(getProxy()),\n",
    "}\n",
    "# response = requests.get(url,headers=headers,proxies=proxies)\n",
    "\n",
    "response = requests.get(url, headers=headers)\n",
    "print(response)\n",
    "str = response.content\n"
   ]
  },
  {
   "cell_type": "code",
   "execution_count": 119,
   "metadata": {},
   "outputs": [],
   "source": [
    "str = response.content.decode('utf-8')"
   ]
  },
  {
   "cell_type": "code",
   "execution_count": 120,
   "metadata": {},
   "outputs": [
    {
     "data": {
      "text/plain": [
       "-1"
      ]
     },
     "execution_count": 120,
     "metadata": {},
     "output_type": "execute_result"
    }
   ],
   "source": [
    "str.find('坂本龙一')"
   ]
  },
  {
   "cell_type": "code",
   "execution_count": 10,
   "metadata": {},
   "outputs": [],
   "source": [
    "html = etree.HTML(response.text)  # 网页的解析\n",
    "count = html.xpath('//*[@id=\"36349487\"]/td[2]/div/a/text()')"
   ]
  },
  {
   "cell_type": "code",
   "execution_count": 11,
   "metadata": {},
   "outputs": [
    {
     "data": {
      "text/plain": [
       "['\\n            サウンドトラック『怪物』(ALBUM)\\n                ', '\\n       ']"
      ]
     },
     "execution_count": 11,
     "metadata": {},
     "output_type": "execute_result"
    }
   ],
   "source": [
    "count"
   ]
  },
  {
   "cell_type": "code",
   "execution_count": null,
   "metadata": {},
   "outputs": [],
   "source": []
  }
 ],
 "metadata": {
  "kernelspec": {
   "display_name": "base",
   "language": "python",
   "name": "python3"
  },
  "language_info": {
   "codemirror_mode": {
    "name": "ipython",
    "version": 3
   },
   "file_extension": ".py",
   "mimetype": "text/x-python",
   "name": "python",
   "nbconvert_exporter": "python",
   "pygments_lexer": "ipython3",
   "version": "3.9.7"
  }
 },
 "nbformat": 4,
 "nbformat_minor": 2
}
