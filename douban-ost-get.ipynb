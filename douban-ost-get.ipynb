{
 "cells": [
  {
   "cell_type": "code",
   "execution_count": 5,
   "metadata": {},
   "outputs": [],
   "source": [
    "import requests\n",
    "import fake_useragent\n",
    "from lxml import etree\n",
    "import re\n",
    "import time\n",
    "import pandas as pd\n",
    "import random\n",
    "# 首先实例化fake_useragent对象\n",
    "ua = fake_useragent.UserAgent()"
   ]
  },
  {
   "cell_type": "code",
   "execution_count": 26,
   "metadata": {},
   "outputs": [],
   "source": [
    "def getProxy():\n",
    "    df = pd.read_excel(io=r'C:\\Users\\TUNGEE\\Desktop\\project\\douban-music-250\\data\\可用ip-all.xlsx')\n",
    "    ip_list = df['proxy'].to_list()\n",
    "    int_random = random.randint(0,len(ip_list)-1)\n",
    "    ip = ip_list[int_random]\n",
    "    return ip\n"
   ]
  },
  {
   "cell_type": "code",
   "execution_count": 3,
   "metadata": {},
   "outputs": [],
   "source": [
    "import string"
   ]
  },
  {
   "cell_type": "code",
   "execution_count": 9,
   "metadata": {},
   "outputs": [],
   "source": [
    "def getCookie():\n",
    "    cookie=\"bid=%s\" % \"\".join(random.sample(string.ascii_letters + string.digits, 11))\n",
    "    return cookie"
   ]
  },
  {
   "cell_type": "code",
   "execution_count": 10,
   "metadata": {},
   "outputs": [
    {
     "data": {
      "text/plain": [
       "'bid=xa2W1viA8lN'"
      ]
     },
     "execution_count": 10,
     "metadata": {},
     "output_type": "execute_result"
    }
   ],
   "source": [
    "getCookie()"
   ]
  },
  {
   "cell_type": "code",
   "execution_count": 22,
   "metadata": {},
   "outputs": [
    {
     "data": {
      "text/plain": [
       "'114.231.45.160:8888'"
      ]
     },
     "execution_count": 22,
     "metadata": {},
     "output_type": "execute_result"
    }
   ],
   "source": [
    "getProxy()"
   ]
  },
  {
   "cell_type": "code",
   "execution_count": 28,
   "metadata": {},
   "outputs": [],
   "source": [
    "import ssl"
   ]
  },
  {
   "cell_type": "code",
   "execution_count": 31,
   "metadata": {},
   "outputs": [
    {
     "name": "stdout",
     "output_type": "stream",
     "text": [
      "Requirement already satisfied: certifi in d:\\anaconda\\lib\\site-packages (2023.7.22)\n",
      "Collecting certifi\n",
      "  Obtaining dependency information for certifi from https://files.pythonhosted.org/packages/64/62/428ef076be88fa93716b576e4a01f919d25968913e817077a386fcbe4f42/certifi-2023.11.17-py3-none-any.whl.metadata\n",
      "  Downloading certifi-2023.11.17-py3-none-any.whl.metadata (2.2 kB)\n",
      "Downloading certifi-2023.11.17-py3-none-any.whl (162 kB)\n",
      "   ---------------------------------------- 0.0/162.5 kB ? eta -:--:--\n",
      "   -- ------------------------------------- 10.2/162.5 kB ? eta -:--:--\n",
      "   --------- ----------------------------- 41.0/162.5 kB 653.6 kB/s eta 0:00:01\n",
      "   -------------------------- ----------- 112.6/162.5 kB 939.4 kB/s eta 0:00:01\n",
      "   ------------------------------------- -- 153.6/162.5 kB 1.1 MB/s eta 0:00:01\n",
      "   -------------------------------------- 162.5/162.5 kB 885.4 kB/s eta 0:00:00\n",
      "Installing collected packages: certifi\n",
      "  Attempting uninstall: certifi\n",
      "    Found existing installation: certifi 2023.7.22\n",
      "    Uninstalling certifi-2023.7.22:\n",
      "      Successfully uninstalled certifi-2023.7.22\n",
      "Successfully installed certifi-2023.11.17\n",
      "Note: you may need to restart the kernel to use updated packages.\n"
     ]
    }
   ],
   "source": [
    "pip install --upgrade certifi"
   ]
  },
  {
   "cell_type": "code",
   "execution_count": 83,
   "metadata": {},
   "outputs": [
    {
     "name": "stderr",
     "output_type": "stream",
     "text": [
      "d:\\Anaconda\\Lib\\site-packages\\urllib3\\connectionpool.py:1056: InsecureRequestWarning: Unverified HTTPS request is being made to host '127.0.0.1'. Adding certificate verification is strongly advised. See: https://urllib3.readthedocs.io/en/1.26.x/advanced-usage.html#ssl-warnings\n",
      "  warnings.warn(\n"
     ]
    },
    {
     "name": "stdout",
     "output_type": "stream",
     "text": [
      "<Response [200]>\n"
     ]
    }
   ],
   "source": [
    "ssl._create_default_https_context = ssl._create_unverified_context\n",
    "url = 'https://music.douban.com/tag/OST'\n",
    "headers = {\n",
    "    'User-Agent' : ua.random,\n",
    "    'Origin':'https://music.douban.com',\n",
    "    'referer':'https://music.douban.com/tag/',\n",
    "    'Accept-Language': 'zh-CN,zh',\n",
    "    'Cookie':f'{getCookie()}; douban-fav-remind=1; ll=\"118281\"; viewed=\"10785583\"; push_noty_num=0; push_doumail_num=0; __utmz=30149280.1705569618.7.3.utmcsr=cn.bing.com|utmccn=(referral)|utmcmd=referral|utmcct=/; __utmv=30149280.17734; __utma=30149280.669718913.1704355273.1705569618.1705991250.8; __utmc=30149280; __utmt=1; __utmb=30149280.1.10.1705991250; ap_v=0,6.0'\n",
    "    }\n",
    "\n",
    "proxies = {\n",
    "    'http': 'http://{}'.format(getProxy()),\n",
    "    'https': 'http://{}'.format(getProxy()),\n",
    "}\n",
    "# response = requests.get(url,headers=headers,proxies=proxies)\n",
    "\n",
    "# response = requests.get(url, headers=headers,proxies=proxies,verify=False)\n",
    "response = requests.get(url, headers=headers,verify=False)\n",
    "\n",
    "print(response)\n",
    "str = response.content\n",
    "html = etree.HTML(response.text)  # 网页的解析\n",
    "count = html.xpath('//*[@id=\"36349487\"]/td[2]/div/a/text()')\n"
   ]
  },
  {
   "cell_type": "code",
   "execution_count": 92,
   "metadata": {},
   "outputs": [
    {
     "data": {
      "text/plain": [
       "'サウンドトラック『怪物』(ALBUM)'"
      ]
     },
     "execution_count": 92,
     "metadata": {},
     "output_type": "execute_result"
    }
   ],
   "source": [
    "count[0].strip()"
   ]
  },
  {
   "cell_type": "code",
   "execution_count": 1,
   "metadata": {},
   "outputs": [],
   "source": [
    "# Specify the path to your text file\n",
    "file_path = r\"C:\\Users\\TUNGEE\\Desktop\\1.txt\"\n",
    "\n",
    "# Read the contents of the file and store each line in a list\n",
    "with open(file_path, 'r') as file:\n",
    "    ips = file.read().splitlines()"
   ]
  },
  {
   "cell_type": "code",
   "execution_count": null,
   "metadata": {},
   "outputs": [],
   "source": [
    "with open(file_path,'r') as file:\n",
    "    ips = file.read().splitlines()"
   ]
  }
 ],
 "metadata": {
  "kernelspec": {
   "display_name": "base",
   "language": "python",
   "name": "python3"
  },
  "language_info": {
   "codemirror_mode": {
    "name": "ipython",
    "version": 3
   },
   "file_extension": ".py",
   "mimetype": "text/x-python",
   "name": "python",
   "nbconvert_exporter": "python",
   "pygments_lexer": "ipython3",
   "version": "3.11.5"
  }
 },
 "nbformat": 4,
 "nbformat_minor": 2
}
